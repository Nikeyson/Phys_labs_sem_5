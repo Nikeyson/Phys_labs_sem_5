{
 "cells": [
  {
   "cell_type": "markdown",
   "metadata": {},
   "source": [
    "# Лабораторная работа"
   ]
  },
  {
   "cell_type": "markdown",
   "metadata": {},
   "source": [
    "## Определение энергии $\\alpha$-частиц по величине их пробега в воздухе"
   ]
  },
  {
   "cell_type": "markdown",
   "metadata": {},
   "source": [
    "## Теоретические сведения"
   ]
  },
  {
   "cell_type": "markdown",
   "metadata": {},
   "source": [
    "Энергию альфа-частиц удобно определять по величине их пробега в веществе. Рассмотрим подробно взаимодействие заряженных частиц с веществом. Альфа-частицы при прохождении вещества чаще всего теряют энергию в результате неупругих столкновений с атомами. Этот процесс можно рассматривать как процесс непрерывного столкновения. Рассеиваемая энергия не превышает $4mE/M$. Атомные электроны можно считать свободными в силу того, что энергия налетающей частицы значительно превышает энергию связи электронов в атомах:\n",
    "\t\t\\begin{equation}\n",
    "\t\t    E_e = \\frac{p^2}{2m} = \\frac{1}{2m}\\left(\\frac{Ze^2}{y^2}\\cdot\\frac{2y}{v}\\right) = \\frac{2e^4Z^2}{mv^2y^2}\n",
    "\t\t\\end{equation}\n",
    "\t\tЕсли плотность электронов в среде $n = nZ$, то потеря энергии заряженной частицей на единице пути в результате взаимодействия с электронами в слое $2\\pi y d y$ будет выражаться как:\n",
    "\t\t\\begin{equation}\n",
    "\t\t    d E(y) = \\frac{4\\pi nZ z^2e^4}{mv^2}\\frac{d y}{y}\n",
    "\t\t\\end{equation}\n",
    "\t\tПреобразуя выражение и вводя обозначение $\\bar{I}$:\n",
    "\t\t\\begin{equation}\n",
    "\t\t    \\ln\\frac{E_{max}}{E_{min}} = \\ln\\frac{2mv^2}{\\bar{I}}\n",
    "\t\t\\end{equation}\n",
    "\t\t\\begin{equation}\n",
    "\t\t    \\left(\\frac{d E}{d x}\\right) \\simeq 2\\pi\\frac{e^4z^2}{mv^2}nZ\\ln\\frac{2mv^2}{\\bar{I}}\n",
    "\t\t\\end{equation}\n",
    "\t\tВеличину $\\frac{d E}{d x}$ называют тормозную способностью вещества.\n",
    "\t\tЗависимость тормозной способности от пути называется кривой Брэгга.  Две такие кривые для движения $^{210}Po$ и  $^{214}Po$ показаны на рисунке. Характерный подъем называется пиком Брэгга (рис. 1)\n",
    "\t\t"
   ]
  },
  {
   "cell_type": "markdown",
   "metadata": {},
   "source": [
    "![Схема экспериментальной установки](pic1.png)"
   ]
  },
  {
   "cell_type": "markdown",
   "metadata": {},
   "source": [
    "## Экспериментальная установка"
   ]
  },
  {
   "cell_type": "markdown",
   "metadata": {},
   "source": [
    "В работе длину пробега будем измерять тремя разными способами:\n",
    "1. С помощью счетчика Гейгера\n",
    "2. С помощью сцинтилляционного счетчика\n",
    "3. С помощью ионизационной камеры\n",
    "\n",
    "Схемы установок изображены на рисунках 3-5:"
   ]
  },
  {
   "cell_type": "markdown",
   "metadata": {},
   "source": [
    "![Схема экспериментальной установки](pic3.png)"
   ]
  },
  {
   "cell_type": "markdown",
   "metadata": {},
   "source": [
    "![Схема экспериментальной установки](pic4.png)"
   ]
  },
  {
   "cell_type": "markdown",
   "metadata": {},
   "source": [
    "![Схема экспериментальной установки](pic5.png)"
   ]
  },
  {
   "cell_type": "markdown",
   "metadata": {},
   "source": [
    "## Ход работы"
   ]
  },
  {
   "cell_type": "code",
   "execution_count": 1,
   "metadata": {},
   "outputs": [],
   "source": [
    "import numpy as np\n",
    "import pandas as pd\n",
    "from matplotlib import pyplot as plt"
   ]
  },
  {
   "cell_type": "markdown",
   "metadata": {},
   "source": [
    "## 1. Исследование пробега $\\alpha$-частиц с помощью счетчика Гейгера"
   ]
  },
  {
   "cell_type": "markdown",
   "metadata": {},
   "source": [
    "1\\. Подготавливаем установку. Проводим измерение зависимости скорости счета от расстояния между источником и счетчиком, записываем результаты в таблицу."
   ]
  },
  {
   "cell_type": "code",
   "execution_count": 2,
   "metadata": {},
   "outputs": [],
   "source": [
    "table1 = pd.read_csv('''C:\\\\Users\\\\Nikeyson-PC\\\\Desktop\\\\Laba4_1\\\\exp1.csv''', sep=';')"
   ]
  },
  {
   "cell_type": "code",
   "execution_count": 3,
   "metadata": {},
   "outputs": [
    {
     "data": {
      "text/html": [
       "<div>\n",
       "<style scoped>\n",
       "    .dataframe tbody tr th:only-of-type {\n",
       "        vertical-align: middle;\n",
       "    }\n",
       "\n",
       "    .dataframe tbody tr th {\n",
       "        vertical-align: top;\n",
       "    }\n",
       "\n",
       "    .dataframe thead th {\n",
       "        text-align: right;\n",
       "    }\n",
       "</style>\n",
       "<table border=\"1\" class=\"dataframe\">\n",
       "  <thead>\n",
       "    <tr style=\"text-align: right;\">\n",
       "      <th></th>\n",
       "      <th>height</th>\n",
       "      <th>N</th>\n",
       "      <th>time</th>\n",
       "    </tr>\n",
       "  </thead>\n",
       "  <tbody>\n",
       "    <tr>\n",
       "      <th>0</th>\n",
       "      <td>2</td>\n",
       "      <td>430</td>\n",
       "      <td>30,266</td>\n",
       "    </tr>\n",
       "    <tr>\n",
       "      <th>1</th>\n",
       "      <td>2,5</td>\n",
       "      <td>425</td>\n",
       "      <td>30,263</td>\n",
       "    </tr>\n",
       "    <tr>\n",
       "      <th>2</th>\n",
       "      <td>3</td>\n",
       "      <td>418</td>\n",
       "      <td>30,137</td>\n",
       "    </tr>\n",
       "    <tr>\n",
       "      <th>3</th>\n",
       "      <td>3,5</td>\n",
       "      <td>463</td>\n",
       "      <td>30,332</td>\n",
       "    </tr>\n",
       "    <tr>\n",
       "      <th>4</th>\n",
       "      <td>4</td>\n",
       "      <td>451</td>\n",
       "      <td>31,121</td>\n",
       "    </tr>\n",
       "    <tr>\n",
       "      <th>5</th>\n",
       "      <td>4,5</td>\n",
       "      <td>467</td>\n",
       "      <td>31,579</td>\n",
       "    </tr>\n",
       "    <tr>\n",
       "      <th>6</th>\n",
       "      <td>5</td>\n",
       "      <td>481</td>\n",
       "      <td>31,341</td>\n",
       "    </tr>\n",
       "    <tr>\n",
       "      <th>7</th>\n",
       "      <td>5,5</td>\n",
       "      <td>460</td>\n",
       "      <td>30,414</td>\n",
       "    </tr>\n",
       "    <tr>\n",
       "      <th>8</th>\n",
       "      <td>6</td>\n",
       "      <td>427</td>\n",
       "      <td>30,93</td>\n",
       "    </tr>\n",
       "    <tr>\n",
       "      <th>9</th>\n",
       "      <td>6,5</td>\n",
       "      <td>462</td>\n",
       "      <td>31,898</td>\n",
       "    </tr>\n",
       "    <tr>\n",
       "      <th>10</th>\n",
       "      <td>7</td>\n",
       "      <td>364</td>\n",
       "      <td>30,166</td>\n",
       "    </tr>\n",
       "    <tr>\n",
       "      <th>11</th>\n",
       "      <td>7,5</td>\n",
       "      <td>366</td>\n",
       "      <td>31,854</td>\n",
       "    </tr>\n",
       "    <tr>\n",
       "      <th>12</th>\n",
       "      <td>8</td>\n",
       "      <td>240</td>\n",
       "      <td>30,443</td>\n",
       "    </tr>\n",
       "    <tr>\n",
       "      <th>13</th>\n",
       "      <td>8,5</td>\n",
       "      <td>126</td>\n",
       "      <td>31,955</td>\n",
       "    </tr>\n",
       "    <tr>\n",
       "      <th>14</th>\n",
       "      <td>9</td>\n",
       "      <td>63</td>\n",
       "      <td>30,447</td>\n",
       "    </tr>\n",
       "    <tr>\n",
       "      <th>15</th>\n",
       "      <td>9,5</td>\n",
       "      <td>12</td>\n",
       "      <td>31,74</td>\n",
       "    </tr>\n",
       "    <tr>\n",
       "      <th>16</th>\n",
       "      <td>10</td>\n",
       "      <td>9</td>\n",
       "      <td>30,997</td>\n",
       "    </tr>\n",
       "    <tr>\n",
       "      <th>17</th>\n",
       "      <td>0</td>\n",
       "      <td>433</td>\n",
       "      <td>29,872</td>\n",
       "    </tr>\n",
       "    <tr>\n",
       "      <th>18</th>\n",
       "      <td>0,5</td>\n",
       "      <td>459</td>\n",
       "      <td>30,234</td>\n",
       "    </tr>\n",
       "    <tr>\n",
       "      <th>19</th>\n",
       "      <td>1</td>\n",
       "      <td>494</td>\n",
       "      <td>30,026</td>\n",
       "    </tr>\n",
       "    <tr>\n",
       "      <th>20</th>\n",
       "      <td>1,5</td>\n",
       "      <td>446</td>\n",
       "      <td>29,916</td>\n",
       "    </tr>\n",
       "  </tbody>\n",
       "</table>\n",
       "</div>"
      ],
      "text/plain": [
       "   height    N    time\n",
       "0       2  430  30,266\n",
       "1     2,5  425  30,263\n",
       "2       3  418  30,137\n",
       "3     3,5  463  30,332\n",
       "4       4  451  31,121\n",
       "5     4,5  467  31,579\n",
       "6       5  481  31,341\n",
       "7     5,5  460  30,414\n",
       "8       6  427   30,93\n",
       "9     6,5  462  31,898\n",
       "10      7  364  30,166\n",
       "11    7,5  366  31,854\n",
       "12      8  240  30,443\n",
       "13    8,5  126  31,955\n",
       "14      9   63  30,447\n",
       "15    9,5   12   31,74\n",
       "16     10    9  30,997\n",
       "17      0  433  29,872\n",
       "18    0,5  459  30,234\n",
       "19      1  494  30,026\n",
       "20    1,5  446  29,916"
      ]
     },
     "execution_count": 3,
     "metadata": {},
     "output_type": "execute_result"
    }
   ],
   "source": [
    "table1"
   ]
  },
  {
   "cell_type": "code",
   "execution_count": 4,
   "metadata": {},
   "outputs": [],
   "source": [
    "x1 = np.array(table1.iloc[:, 0].str.replace(',', '.').astype(float))\n",
    "y1 = np.array(table1.iloc[:, 1])\n",
    "z1 = np.array(table1.iloc[:, 2].str.replace(',', '.').astype(float))\n",
    "#Нормируем по времени\n",
    "y1 = y1/z1\n",
    "#Положение ноль равно 10мм от источника\n",
    "x1 = x1 + 10"
   ]
  },
  {
   "cell_type": "markdown",
   "metadata": {},
   "source": [
    "2\\. Строим график, по нему определим среднюю и экстраполированную длину пробега"
   ]
  },
  {
   "cell_type": "code",
   "execution_count": 5,
   "metadata": {},
   "outputs": [
    {
     "data": {
      "image/png": "[encoded data removed]",
      "text/plain": [
       "<Figure size 1200x800 with 1 Axes>"
      ]
     },
     "metadata": {
      "needs_background": "light"
     },
     "output_type": "display_data"
    }
   ],
   "source": [
    "fig = plt.figure(figsize= (12, 8), dpi= 100)\n",
    "ax1 = fig.add_subplot()\n",
    "ax1.plot(x1, y1, 'o' ,label= \"Всё\")\n",
    "ax1.grid(True)\n",
    "plt.xlabel(\"h, мм\")\n",
    "plt.ylabel(\"N, 1/с\")\n",
    "plt.title(\"Зависимость скорости счета от расстояния между источником и счетчиком\")\n",
    "plt.show()"
   ]
  },
  {
   "cell_type": "code",
   "execution_count": 6,
   "metadata": {},
   "outputs": [],
   "source": [
    "#Берем точки, где наблюдается спад, экстраполируем по ним.\n",
    "x11 = x1[9:-5]\n",
    "y11 = y1[9:-5]\n",
    "a, b = np.polyfit(x11,y11,1)\n",
    "s = 0\n",
    "for i in range(len(y11)):\n",
    "    s+= (abs(y11[i] - (a*x11[i]) - b))**2\n",
    "s = (s/len(y11))**0.5"
   ]
  },
  {
   "cell_type": "code",
   "execution_count": 7,
   "metadata": {},
   "outputs": [
    {
     "data": {
      "image/png": "[encoded data removed]",
      "text/plain": [
       "<Figure size 1200x800 with 1 Axes>"
      ]
     },
     "metadata": {
      "needs_background": "light"
     },
     "output_type": "display_data"
    }
   ],
   "source": [
    "fig = plt.figure(figsize= (12, 8), dpi= 100)\n",
    "ax1 = fig.add_subplot()\n",
    "ax1.plot(x1, y1, 'o' ,label= \"Данные\")\n",
    "ax1.grid(True)\n",
    "ap = [i for i in range(16, 21, 1)]\n",
    "p = [a*i + b for i in ap]\n",
    "ax1.plot(ap, p, \"--\", label= \"Аппроксимация\")\n",
    "ax1.legend()\n",
    "plt.xlabel(\"h, мм\")\n",
    "plt.ylabel(\"N, 1/c\")\n",
    "plt.title(\"Зависимость скорости счета от расстояния между источником и счетчиком\")\n",
    "plt.show()"
   ]
  },
  {
   "cell_type": "code",
   "execution_count": 8,
   "metadata": {},
   "outputs": [],
   "source": [
    "#Средний пробег\n",
    "r1_av = ((x11[0]+x11[-1])/2)/10\n",
    "r1_av1 = r1_av*0.001225\n",
    "#Экстраполированный пробег\n",
    "r1 = (-b/a)/10\n",
    "r11 = r1*0.001225\n",
    "err1 = ((0.5/10)**2 + (s/y11[0])**2)**0.5\n",
    "r1_av_err  = r1_av*err1\n",
    "r1_av1_err  = r1_av1*err1\n",
    "r1_err = r1*err1\n",
    "r11_err = r11*err1"
   ]
  },
  {
   "cell_type": "code",
   "execution_count": 9,
   "metadata": {},
   "outputs": [
    {
     "name": "stdout",
     "output_type": "stream",
     "text": [
      "Средний пробег:  1.8 +- 0.132 см\n",
      "Средний пробег:  0.0022 +- 0.0002 г/см^2\n",
      "Экстраполированный пробег:  1.95 +- 0.143 см\n",
      "Экстраполированный пробег:  0.0024 +- 0.0002 г/см^2\n"
     ]
    }
   ],
   "source": [
    "print(\"Средний пробег: \", round(r1_av,3) , \"+-\", round(r1_av_err,3) , \"см\")\n",
    "print(\"Средний пробег: \", round(r1_av1,4), \"+-\", round(r1_av1_err,4) , \"г/см^2\")\n",
    "print(\"Экстраполированный пробег: \", round(r1,3) , \"+-\", round(r1_err,3) , \"см\")\n",
    "print(\"Экстраполированный пробег: \", round(r11,4) , \"+-\", round(r11_err,4) , \"г/см^2\")"
   ]
  },
  {
   "cell_type": "markdown",
   "metadata": {},
   "source": [
    "## 2. Определение пробега $\\alpha$-частиц с помощью сцинтилляционного счетчика"
   ]
  },
  {
   "cell_type": "markdown",
   "metadata": {},
   "source": [
    "1\\. Подготовили установку к работе. Атмосферное давление: 100,6 кПа. При нем, скорость счета - 7 счетов за 100 секунд."
   ]
  },
  {
   "cell_type": "markdown",
   "metadata": {},
   "source": [
    "2\\. Измерим зависимость скорости счета от давления, занесем данные в таблицу"
   ]
  },
  {
   "cell_type": "code",
   "execution_count": 10,
   "metadata": {},
   "outputs": [],
   "source": [
    "table2 = pd.read_csv('''C:\\\\Users\\\\Nikeyson-PC\\\\Desktop\\\\Laba4_1\\\\exp2.csv''', sep=';')"
   ]
  },
  {
   "cell_type": "code",
   "execution_count": 11,
   "metadata": {},
   "outputs": [
    {
     "data": {
      "text/html": [
       "<div>\n",
       "<style scoped>\n",
       "    .dataframe tbody tr th:only-of-type {\n",
       "        vertical-align: middle;\n",
       "    }\n",
       "\n",
       "    .dataframe tbody tr th {\n",
       "        vertical-align: top;\n",
       "    }\n",
       "\n",
       "    .dataframe thead th {\n",
       "        text-align: right;\n",
       "    }\n",
       "</style>\n",
       "<table border=\"1\" class=\"dataframe\">\n",
       "  <thead>\n",
       "    <tr style=\"text-align: right;\">\n",
       "      <th></th>\n",
       "      <th>Pressure</th>\n",
       "      <th>N</th>\n",
       "    </tr>\n",
       "  </thead>\n",
       "  <tbody>\n",
       "    <tr>\n",
       "      <th>0</th>\n",
       "      <td>745</td>\n",
       "      <td>3674</td>\n",
       "    </tr>\n",
       "    <tr>\n",
       "      <th>1</th>\n",
       "      <td>745</td>\n",
       "      <td>3655</td>\n",
       "    </tr>\n",
       "    <tr>\n",
       "      <th>2</th>\n",
       "      <td>745</td>\n",
       "      <td>3718</td>\n",
       "    </tr>\n",
       "    <tr>\n",
       "      <th>3</th>\n",
       "      <td>720</td>\n",
       "      <td>3491</td>\n",
       "    </tr>\n",
       "    <tr>\n",
       "      <th>4</th>\n",
       "      <td>720</td>\n",
       "      <td>3509</td>\n",
       "    </tr>\n",
       "    <tr>\n",
       "      <th>5</th>\n",
       "      <td>720</td>\n",
       "      <td>3560</td>\n",
       "    </tr>\n",
       "    <tr>\n",
       "      <th>6</th>\n",
       "      <td>700</td>\n",
       "      <td>3418</td>\n",
       "    </tr>\n",
       "    <tr>\n",
       "      <th>7</th>\n",
       "      <td>700</td>\n",
       "      <td>3389</td>\n",
       "    </tr>\n",
       "    <tr>\n",
       "      <th>8</th>\n",
       "      <td>700</td>\n",
       "      <td>3423</td>\n",
       "    </tr>\n",
       "    <tr>\n",
       "      <th>9</th>\n",
       "      <td>675</td>\n",
       "      <td>3151</td>\n",
       "    </tr>\n",
       "    <tr>\n",
       "      <th>10</th>\n",
       "      <td>675</td>\n",
       "      <td>3222</td>\n",
       "    </tr>\n",
       "    <tr>\n",
       "      <th>11</th>\n",
       "      <td>675</td>\n",
       "      <td>3230</td>\n",
       "    </tr>\n",
       "    <tr>\n",
       "      <th>12</th>\n",
       "      <td>660</td>\n",
       "      <td>3053</td>\n",
       "    </tr>\n",
       "    <tr>\n",
       "      <th>13</th>\n",
       "      <td>660</td>\n",
       "      <td>3060</td>\n",
       "    </tr>\n",
       "    <tr>\n",
       "      <th>14</th>\n",
       "      <td>660</td>\n",
       "      <td>3151</td>\n",
       "    </tr>\n",
       "    <tr>\n",
       "      <th>15</th>\n",
       "      <td>640</td>\n",
       "      <td>2787</td>\n",
       "    </tr>\n",
       "    <tr>\n",
       "      <th>16</th>\n",
       "      <td>640</td>\n",
       "      <td>2852</td>\n",
       "    </tr>\n",
       "    <tr>\n",
       "      <th>17</th>\n",
       "      <td>640</td>\n",
       "      <td>2816</td>\n",
       "    </tr>\n",
       "    <tr>\n",
       "      <th>18</th>\n",
       "      <td>620</td>\n",
       "      <td>2555</td>\n",
       "    </tr>\n",
       "    <tr>\n",
       "      <th>19</th>\n",
       "      <td>620</td>\n",
       "      <td>2467</td>\n",
       "    </tr>\n",
       "    <tr>\n",
       "      <th>20</th>\n",
       "      <td>620</td>\n",
       "      <td>2461</td>\n",
       "    </tr>\n",
       "    <tr>\n",
       "      <th>21</th>\n",
       "      <td>600</td>\n",
       "      <td>2224</td>\n",
       "    </tr>\n",
       "    <tr>\n",
       "      <th>22</th>\n",
       "      <td>600</td>\n",
       "      <td>2241</td>\n",
       "    </tr>\n",
       "    <tr>\n",
       "      <th>23</th>\n",
       "      <td>600</td>\n",
       "      <td>2278</td>\n",
       "    </tr>\n",
       "    <tr>\n",
       "      <th>24</th>\n",
       "      <td>580</td>\n",
       "      <td>1984</td>\n",
       "    </tr>\n",
       "    <tr>\n",
       "      <th>25</th>\n",
       "      <td>580</td>\n",
       "      <td>1858</td>\n",
       "    </tr>\n",
       "    <tr>\n",
       "      <th>26</th>\n",
       "      <td>580</td>\n",
       "      <td>1929</td>\n",
       "    </tr>\n",
       "    <tr>\n",
       "      <th>27</th>\n",
       "      <td>560</td>\n",
       "      <td>1563</td>\n",
       "    </tr>\n",
       "    <tr>\n",
       "      <th>28</th>\n",
       "      <td>560</td>\n",
       "      <td>1569</td>\n",
       "    </tr>\n",
       "    <tr>\n",
       "      <th>29</th>\n",
       "      <td>560</td>\n",
       "      <td>1540</td>\n",
       "    </tr>\n",
       "    <tr>\n",
       "      <th>30</th>\n",
       "      <td>540</td>\n",
       "      <td>1198</td>\n",
       "    </tr>\n",
       "    <tr>\n",
       "      <th>31</th>\n",
       "      <td>540</td>\n",
       "      <td>1190</td>\n",
       "    </tr>\n",
       "    <tr>\n",
       "      <th>32</th>\n",
       "      <td>540</td>\n",
       "      <td>1180</td>\n",
       "    </tr>\n",
       "    <tr>\n",
       "      <th>33</th>\n",
       "      <td>520</td>\n",
       "      <td>786</td>\n",
       "    </tr>\n",
       "    <tr>\n",
       "      <th>34</th>\n",
       "      <td>520</td>\n",
       "      <td>782</td>\n",
       "    </tr>\n",
       "    <tr>\n",
       "      <th>35</th>\n",
       "      <td>520</td>\n",
       "      <td>804</td>\n",
       "    </tr>\n",
       "    <tr>\n",
       "      <th>36</th>\n",
       "      <td>500</td>\n",
       "      <td>404</td>\n",
       "    </tr>\n",
       "    <tr>\n",
       "      <th>37</th>\n",
       "      <td>500</td>\n",
       "      <td>441</td>\n",
       "    </tr>\n",
       "    <tr>\n",
       "      <th>38</th>\n",
       "      <td>500</td>\n",
       "      <td>417</td>\n",
       "    </tr>\n",
       "    <tr>\n",
       "      <th>39</th>\n",
       "      <td>480</td>\n",
       "      <td>155</td>\n",
       "    </tr>\n",
       "    <tr>\n",
       "      <th>40</th>\n",
       "      <td>480</td>\n",
       "      <td>143</td>\n",
       "    </tr>\n",
       "    <tr>\n",
       "      <th>41</th>\n",
       "      <td>480</td>\n",
       "      <td>132</td>\n",
       "    </tr>\n",
       "    <tr>\n",
       "      <th>42</th>\n",
       "      <td>460</td>\n",
       "      <td>20</td>\n",
       "    </tr>\n",
       "    <tr>\n",
       "      <th>43</th>\n",
       "      <td>460</td>\n",
       "      <td>26</td>\n",
       "    </tr>\n",
       "    <tr>\n",
       "      <th>44</th>\n",
       "      <td>460</td>\n",
       "      <td>29</td>\n",
       "    </tr>\n",
       "    <tr>\n",
       "      <th>45</th>\n",
       "      <td>440</td>\n",
       "      <td>3</td>\n",
       "    </tr>\n",
       "    <tr>\n",
       "      <th>46</th>\n",
       "      <td>440</td>\n",
       "      <td>3</td>\n",
       "    </tr>\n",
       "    <tr>\n",
       "      <th>47</th>\n",
       "      <td>440</td>\n",
       "      <td>1</td>\n",
       "    </tr>\n",
       "    <tr>\n",
       "      <th>48</th>\n",
       "      <td>420</td>\n",
       "      <td>2</td>\n",
       "    </tr>\n",
       "    <tr>\n",
       "      <th>49</th>\n",
       "      <td>420</td>\n",
       "      <td>2</td>\n",
       "    </tr>\n",
       "    <tr>\n",
       "      <th>50</th>\n",
       "      <td>420</td>\n",
       "      <td>3</td>\n",
       "    </tr>\n",
       "    <tr>\n",
       "      <th>51</th>\n",
       "      <td>400</td>\n",
       "      <td>1</td>\n",
       "    </tr>\n",
       "    <tr>\n",
       "      <th>52</th>\n",
       "      <td>400</td>\n",
       "      <td>2</td>\n",
       "    </tr>\n",
       "    <tr>\n",
       "      <th>53</th>\n",
       "      <td>400</td>\n",
       "      <td>1</td>\n",
       "    </tr>\n",
       "  </tbody>\n",
       "</table>\n",
       "</div>"
      ],
      "text/plain": [
       "    Pressure     N\n",
       "0        745  3674\n",
       "1        745  3655\n",
       "2        745  3718\n",
       "3        720  3491\n",
       "4        720  3509\n",
       "5        720  3560\n",
       "6        700  3418\n",
       "7        700  3389\n",
       "8        700  3423\n",
       "9        675  3151\n",
       "10       675  3222\n",
       "11       675  3230\n",
       "12       660  3053\n",
       "13       660  3060\n",
       "14       660  3151\n",
       "15       640  2787\n",
       "16       640  2852\n",
       "17       640  2816\n",
       "18       620  2555\n",
       "19       620  2467\n",
       "20       620  2461\n",
       "21       600  2224\n",
       "22       600  2241\n",
       "23       600  2278\n",
       "24       580  1984\n",
       "25       580  1858\n",
       "26       580  1929\n",
       "27       560  1563\n",
       "28       560  1569\n",
       "29       560  1540\n",
       "30       540  1198\n",
       "31       540  1190\n",
       "32       540  1180\n",
       "33       520   786\n",
       "34       520   782\n",
       "35       520   804\n",
       "36       500   404\n",
       "37       500   441\n",
       "38       500   417\n",
       "39       480   155\n",
       "40       480   143\n",
       "41       480   132\n",
       "42       460    20\n",
       "43       460    26\n",
       "44       460    29\n",
       "45       440     3\n",
       "46       440     3\n",
       "47       440     1\n",
       "48       420     2\n",
       "49       420     2\n",
       "50       420     3\n",
       "51       400     1\n",
       "52       400     2\n",
       "53       400     1"
      ]
     },
     "execution_count": 11,
     "metadata": {},
     "output_type": "execute_result"
    }
   ],
   "source": [
    "table2"
   ]
  },
  {
   "cell_type": "code",
   "execution_count": 12,
   "metadata": {},
   "outputs": [],
   "source": [
    "#Переводим давление из относительного к атмосфере в абсолютное, усредняем для одинаковых значений давления.\n",
    "x2 = np.array(table2.iloc[:, 0])\n",
    "y2 = np.array(table2.iloc[:, 1])\n",
    "x21 = []\n",
    "y21 = []\n",
    "for i in range(0, len(x2), 3):\n",
    "    x21.append(x2[i])\n",
    "    y21.append((y2[i]+y2[i+1]+y2[i+2])/3)\n",
    "x21 = np.array(x21)\n",
    "y21 = np.array(y21)\n",
    "x21 = 100600 - x21*133.322\n",
    "y21 = y21/10"
   ]
  },
  {
   "cell_type": "markdown",
   "metadata": {},
   "source": [
    "3\\. Строим график, по нему определим среднюю и экстраполированную длину пробега"
   ]
  },
  {
   "cell_type": "code",
   "execution_count": 13,
   "metadata": {},
   "outputs": [
    {
     "data": {
      "image/png": "[encoded data removed]",
      "text/plain": [
       "<Figure size 1200x800 with 1 Axes>"
      ]
     },
     "metadata": {
      "needs_background": "light"
     },
     "output_type": "display_data"
    }
   ],
   "source": [
    "fig = plt.figure(figsize= (12, 8), dpi= 100)\n",
    "ax1 = fig.add_subplot()\n",
    "ax1.plot(x21, y21, 'o' ,label= \"Всё\")\n",
    "ax1.grid(True)\n",
    "plt.xlabel(\"P, Па\")\n",
    "plt.ylabel(\"N, 1/с\")\n",
    "plt.title(\"Зависимость скорости счета от давления\")\n",
    "plt.show()"
   ]
  },
  {
   "cell_type": "code",
   "execution_count": 14,
   "metadata": {},
   "outputs": [],
   "source": [
    "#Экстраполируем по точкам где наблюдается снижение.\n",
    "x22 = x21[3:-4]\n",
    "y22 = y21[3:-4]\n",
    "a, b = np.polyfit(x22,y22,1)\n",
    "s = 0\n",
    "for i in range(len(y22)):\n",
    "    s+= (abs(y22[i] - (a*x22[i]) - b))**2\n",
    "s = (s/len(y22))**0.5"
   ]
  },
  {
   "cell_type": "code",
   "execution_count": 15,
   "metadata": {},
   "outputs": [
    {
     "data": {
      "image/png": "[encoded data removed]",
      "text/plain": [
       "<Figure size 1200x800 with 1 Axes>"
      ]
     },
     "metadata": {
      "needs_background": "light"
     },
     "output_type": "display_data"
    }
   ],
   "source": [
    "fig = plt.figure(figsize= (12, 8), dpi= 100)\n",
    "ax1 = fig.add_subplot()\n",
    "ax1.plot(x21, y21, 'o' ,label= \"Данные\")\n",
    "ax1.grid(True)\n",
    "ap = [i for i in range(10000, 40000, 1000)]\n",
    "p = [a*i + b for i in ap]\n",
    "ax1.plot(ap, p, \"--\", label= \"Аппроксимация\")\n",
    "ax1.legend()\n",
    "plt.xlabel(\"P, Па\")\n",
    "plt.ylabel(\"N, 1/c\")\n",
    "plt.title(\"Зависимость скорости счета от давления\")\n",
    "plt.show()"
   ]
  },
  {
   "cell_type": "code",
   "execution_count": 16,
   "metadata": {},
   "outputs": [],
   "source": [
    "p_av =(x22[0] + x22[-1])/2\n",
    "p2 = -b/a\n",
    "r2_av = (p_av/101330)*9\n",
    "r2_av1 = r2_av * 0.001225\n",
    "r2 = (p2/101330)*9\n",
    "r21 = r2*0.001225\n",
    "err2 = ((5/400)**2 + (s/y22[0])**2)**0.5\n",
    "r2_av_err  = r2_av*err2\n",
    "r2_av1_err  = r2_av1*err2\n",
    "r2_err = r2*err2\n",
    "r21_err = r21*err2"
   ]
  },
  {
   "cell_type": "code",
   "execution_count": 17,
   "metadata": {},
   "outputs": [
    {
     "name": "stdout",
     "output_type": "stream",
     "text": [
      "Средний пробег:  2.097 +- 0.058 см\n",
      "Средний пробег:  0.0026 +- 0.0001 г/см^2\n",
      "Экстраполированный пробег:  3.388 +- 0.094 см\n",
      "Экстраполированный пробег:  0.0041 +- 0.0001 г/см^2\n"
     ]
    }
   ],
   "source": [
    "print(\"Средний пробег: \", round(r2_av,3) , \"+-\", round(r2_av_err,3) , \"см\")\n",
    "print(\"Средний пробег: \", round(r2_av1,4), \"+-\", round(r2_av1_err,4) , \"г/см^2\")\n",
    "print(\"Экстраполированный пробег: \", round(r2,3) , \"+-\", round(r2_err,3) , \"см\")\n",
    "print(\"Экстраполированный пробег: \", round(r21,4) , \"+-\", round(r21_err,4) , \"г/см^2\")"
   ]
  },
  {
   "cell_type": "markdown",
   "metadata": {},
   "source": [
    "3\\. Используя результаты предыдущих экспериментов, определим толщину слюды"
   ]
  },
  {
   "cell_type": "code",
   "execution_count": 18,
   "metadata": {},
   "outputs": [
    {
     "name": "stdout",
     "output_type": "stream",
     "text": [
      "Пробег в слюде: 2.1137639919748676 мг/cм^2\n"
     ]
    }
   ],
   "source": [
    "r = (r21 - r11)*1.2*1000\n",
    "print(\"Пробег в слюде:\", r, \"мг/cм^2\")"
   ]
  },
  {
   "cell_type": "markdown",
   "metadata": {},
   "source": [
    "4\\. Вычислим энергию $\\alpha$-частиц и кол-во вещества в препарате"
   ]
  },
  {
   "cell_type": "markdown",
   "metadata": {},
   "source": [
    "$R = 0.32E^{3/2}$"
   ]
  },
  {
   "cell_type": "code",
   "execution_count": 19,
   "metadata": {},
   "outputs": [
    {
     "name": "stdout",
     "output_type": "stream",
     "text": [
      "Энергия a-частиц:  4.821 +- 0.134 МэВ\n"
     ]
    }
   ],
   "source": [
    "E_a2 = (r2/0.32)**(2/3)\n",
    "E_a2_err = E_a2*err2\n",
    "print(\"Энергия a-частиц: \", round(E_a2,3) , \"+-\", round(E_a2_err,3) , \"МэВ\")"
   ]
  },
  {
   "cell_type": "markdown",
   "metadata": {},
   "source": [
    "Это близко к табличному значению 5.15 МэВ"
   ]
  },
  {
   "cell_type": "code",
   "execution_count": 20,
   "metadata": {},
   "outputs": [
    {
     "name": "stdout",
     "output_type": "stream",
     "text": [
      "Кол-во вещества:  2.128e-06 моль\n",
      "Масса вещества:  0.509 мг\n"
     ]
    }
   ],
   "source": [
    "N_a = 6.022*(10**23)\n",
    "l = np.log(2)/(2.44*(10**4)*365*24*60*60)\n",
    "N = y2[0]*((4*np.pi)/0.04)\n",
    "N0 = N/(1-np.e**(-l))\n",
    "V = N0/N_a\n",
    "M = V*239*1000\n",
    "print(\"Кол-во вещества: \", round(V,9), \"моль\")\n",
    "print(\"Масса вещества: \", round(M,3) , \"мг\")"
   ]
  },
  {
   "cell_type": "markdown",
   "metadata": {},
   "source": [
    "## 3. Определение пробега $\\alpha$-частиц с помощью ионизационной камеры"
   ]
  },
  {
   "cell_type": "markdown",
   "metadata": {},
   "source": [
    "1\\. Подготовили установку к работе. Измеряем зависимоть силы тока через камеру от давления, заносим данные в таблицу."
   ]
  },
  {
   "cell_type": "code",
   "execution_count": 21,
   "metadata": {},
   "outputs": [],
   "source": [
    "table3 = pd.read_csv('''C:\\\\Users\\\\Nikeyson-PC\\\\Desktop\\\\Laba4_1\\\\exp3.csv''', sep=';')"
   ]
  },
  {
   "cell_type": "code",
   "execution_count": 22,
   "metadata": {},
   "outputs": [
    {
     "data": {
      "text/html": [
       "<div>\n",
       "<style scoped>\n",
       "    .dataframe tbody tr th:only-of-type {\n",
       "        vertical-align: middle;\n",
       "    }\n",
       "\n",
       "    .dataframe tbody tr th {\n",
       "        vertical-align: top;\n",
       "    }\n",
       "\n",
       "    .dataframe thead th {\n",
       "        text-align: right;\n",
       "    }\n",
       "</style>\n",
       "<table border=\"1\" class=\"dataframe\">\n",
       "  <thead>\n",
       "    <tr style=\"text-align: right;\">\n",
       "      <th></th>\n",
       "      <th>Pressure</th>\n",
       "      <th>I</th>\n",
       "    </tr>\n",
       "  </thead>\n",
       "  <tbody>\n",
       "    <tr>\n",
       "      <th>0</th>\n",
       "      <td>740</td>\n",
       "      <td>8</td>\n",
       "    </tr>\n",
       "    <tr>\n",
       "      <th>1</th>\n",
       "      <td>720</td>\n",
       "      <td>34</td>\n",
       "    </tr>\n",
       "    <tr>\n",
       "      <th>2</th>\n",
       "      <td>700</td>\n",
       "      <td>61</td>\n",
       "    </tr>\n",
       "    <tr>\n",
       "      <th>3</th>\n",
       "      <td>680</td>\n",
       "      <td>88</td>\n",
       "    </tr>\n",
       "    <tr>\n",
       "      <th>4</th>\n",
       "      <td>660</td>\n",
       "      <td>113</td>\n",
       "    </tr>\n",
       "    <tr>\n",
       "      <th>5</th>\n",
       "      <td>640</td>\n",
       "      <td>142</td>\n",
       "    </tr>\n",
       "    <tr>\n",
       "      <th>6</th>\n",
       "      <td>620</td>\n",
       "      <td>167</td>\n",
       "    </tr>\n",
       "    <tr>\n",
       "      <th>7</th>\n",
       "      <td>600</td>\n",
       "      <td>200</td>\n",
       "    </tr>\n",
       "    <tr>\n",
       "      <th>8</th>\n",
       "      <td>580</td>\n",
       "      <td>229</td>\n",
       "    </tr>\n",
       "    <tr>\n",
       "      <th>9</th>\n",
       "      <td>560</td>\n",
       "      <td>257</td>\n",
       "    </tr>\n",
       "    <tr>\n",
       "      <th>10</th>\n",
       "      <td>540</td>\n",
       "      <td>289</td>\n",
       "    </tr>\n",
       "    <tr>\n",
       "      <th>11</th>\n",
       "      <td>520</td>\n",
       "      <td>319</td>\n",
       "    </tr>\n",
       "    <tr>\n",
       "      <th>12</th>\n",
       "      <td>500</td>\n",
       "      <td>350</td>\n",
       "    </tr>\n",
       "    <tr>\n",
       "      <th>13</th>\n",
       "      <td>480</td>\n",
       "      <td>383</td>\n",
       "    </tr>\n",
       "    <tr>\n",
       "      <th>14</th>\n",
       "      <td>460</td>\n",
       "      <td>414</td>\n",
       "    </tr>\n",
       "    <tr>\n",
       "      <th>15</th>\n",
       "      <td>440</td>\n",
       "      <td>447</td>\n",
       "    </tr>\n",
       "    <tr>\n",
       "      <th>16</th>\n",
       "      <td>420</td>\n",
       "      <td>482</td>\n",
       "    </tr>\n",
       "    <tr>\n",
       "      <th>17</th>\n",
       "      <td>400</td>\n",
       "      <td>514</td>\n",
       "    </tr>\n",
       "    <tr>\n",
       "      <th>18</th>\n",
       "      <td>380</td>\n",
       "      <td>546</td>\n",
       "    </tr>\n",
       "    <tr>\n",
       "      <th>19</th>\n",
       "      <td>360</td>\n",
       "      <td>585</td>\n",
       "    </tr>\n",
       "    <tr>\n",
       "      <th>20</th>\n",
       "      <td>340</td>\n",
       "      <td>622</td>\n",
       "    </tr>\n",
       "    <tr>\n",
       "      <th>21</th>\n",
       "      <td>320</td>\n",
       "      <td>661</td>\n",
       "    </tr>\n",
       "    <tr>\n",
       "      <th>22</th>\n",
       "      <td>300</td>\n",
       "      <td>698</td>\n",
       "    </tr>\n",
       "    <tr>\n",
       "      <th>23</th>\n",
       "      <td>280</td>\n",
       "      <td>737</td>\n",
       "    </tr>\n",
       "    <tr>\n",
       "      <th>24</th>\n",
       "      <td>260</td>\n",
       "      <td>776</td>\n",
       "    </tr>\n",
       "    <tr>\n",
       "      <th>25</th>\n",
       "      <td>240</td>\n",
       "      <td>818</td>\n",
       "    </tr>\n",
       "    <tr>\n",
       "      <th>26</th>\n",
       "      <td>220</td>\n",
       "      <td>860</td>\n",
       "    </tr>\n",
       "    <tr>\n",
       "      <th>27</th>\n",
       "      <td>200</td>\n",
       "      <td>889</td>\n",
       "    </tr>\n",
       "    <tr>\n",
       "      <th>28</th>\n",
       "      <td>180</td>\n",
       "      <td>906</td>\n",
       "    </tr>\n",
       "    <tr>\n",
       "      <th>29</th>\n",
       "      <td>160</td>\n",
       "      <td>916</td>\n",
       "    </tr>\n",
       "    <tr>\n",
       "      <th>30</th>\n",
       "      <td>140</td>\n",
       "      <td>918</td>\n",
       "    </tr>\n",
       "    <tr>\n",
       "      <th>31</th>\n",
       "      <td>120</td>\n",
       "      <td>918</td>\n",
       "    </tr>\n",
       "    <tr>\n",
       "      <th>32</th>\n",
       "      <td>100</td>\n",
       "      <td>918</td>\n",
       "    </tr>\n",
       "  </tbody>\n",
       "</table>\n",
       "</div>"
      ],
      "text/plain": [
       "    Pressure    I\n",
       "0        740    8\n",
       "1        720   34\n",
       "2        700   61\n",
       "3        680   88\n",
       "4        660  113\n",
       "5        640  142\n",
       "6        620  167\n",
       "7        600  200\n",
       "8        580  229\n",
       "9        560  257\n",
       "10       540  289\n",
       "11       520  319\n",
       "12       500  350\n",
       "13       480  383\n",
       "14       460  414\n",
       "15       440  447\n",
       "16       420  482\n",
       "17       400  514\n",
       "18       380  546\n",
       "19       360  585\n",
       "20       340  622\n",
       "21       320  661\n",
       "22       300  698\n",
       "23       280  737\n",
       "24       260  776\n",
       "25       240  818\n",
       "26       220  860\n",
       "27       200  889\n",
       "28       180  906\n",
       "29       160  916\n",
       "30       140  918\n",
       "31       120  918\n",
       "32       100  918"
      ]
     },
     "execution_count": 22,
     "metadata": {},
     "output_type": "execute_result"
    }
   ],
   "source": [
    "table3"
   ]
  },
  {
   "cell_type": "code",
   "execution_count": 23,
   "metadata": {},
   "outputs": [],
   "source": [
    "x3 = np.array(table3.iloc[:, 0])\n",
    "y3 = np.array(table3.iloc[:, 1])\n",
    "x3 = 100600 - x3*133.322"
   ]
  },
  {
   "cell_type": "markdown",
   "metadata": {},
   "source": [
    "2\\. Строим график, по нему определим среднюю и экстраполированную длину пробега"
   ]
  },
  {
   "cell_type": "code",
   "execution_count": 24,
   "metadata": {},
   "outputs": [
    {
     "data": {
      "image/png": "[encoded data removed]",
      "text/plain": [
       "<Figure size 1200x800 with 1 Axes>"
      ]
     },
     "metadata": {
      "needs_background": "light"
     },
     "output_type": "display_data"
    }
   ],
   "source": [
    "fig = plt.figure(figsize= (12, 8), dpi= 100)\n",
    "ax1 = fig.add_subplot()\n",
    "ax1.plot(x3, y3, 'o' ,label= \"Всё\")\n",
    "ax1.grid(True)\n",
    "plt.xlabel(\"P, Па\")\n",
    "plt.ylabel(\"I, пА\")\n",
    "plt.title(\"Зависимость силы тока в ионизационной камере от давления\")\n",
    "plt.show()"
   ]
  },
  {
   "cell_type": "code",
   "execution_count": 25,
   "metadata": {},
   "outputs": [],
   "source": [
    "#Экстраполируем\n",
    "x31 = x3[-4:]\n",
    "y31 = y3[-4:]\n",
    "x32 = x3[6:-6]\n",
    "y32 = y3[6:-6]\n",
    "a1, b1 = np.polyfit(x31,y31,1)\n",
    "a2, b2 = np.polyfit(x32,y32,1)\n",
    "s = 0\n",
    "for i in range(len(y31)):\n",
    "    s+= (abs(y31[i] - (a1*x31[i]) - b1))**2\n",
    "for i in range(len(y32)):\n",
    "    s+= (abs(y32[i] - (a2*x32[i]) - b2))**2\n",
    "s = (s/(len(y31)+len(y32)))**0.5"
   ]
  },
  {
   "cell_type": "code",
   "execution_count": 26,
   "metadata": {},
   "outputs": [
    {
     "data": {
      "image/png": "[encoded data removed]",
      "text/plain": [
       "<Figure size 1200x800 with 1 Axes>"
      ]
     },
     "metadata": {
      "needs_background": "light"
     },
     "output_type": "display_data"
    }
   ],
   "source": [
    "fig = plt.figure(figsize= (12, 8), dpi= 100)\n",
    "ax1 = fig.add_subplot()\n",
    "ax1.plot(x3, y3, 'o' ,label= \"Данные\")\n",
    "ax1.grid(True)\n",
    "ap1 = [i for i in range(70000, 100000, 10000)]\n",
    "p1 = [a1*i + b1 for i in ap1]\n",
    "ax1.plot(ap1, p1, \"--\", label= \"Аппроксимация1\")\n",
    "ap2 = [i for i in range(0, 90000, 10000)]\n",
    "p2 = [a2*i + b2 for i in ap2]\n",
    "ax1.plot(ap2, p2, \"--\", label= \"Аппроксимация2\")\n",
    "ax1.legend()\n",
    "plt.xlabel(\"P, Па\")\n",
    "plt.ylabel(\"N, 1/c\")\n",
    "plt.title(\"Зависимость скорости счета от давления\")\n",
    "plt.show()"
   ]
  },
  {
   "cell_type": "code",
   "execution_count": 27,
   "metadata": {},
   "outputs": [
    {
     "name": "stdout",
     "output_type": "stream",
     "text": [
      "Экстраполированный пробег:  3.824 +- 0.064 см\n",
      "Экстраполированный пробег:  0.0047 +- 0.0001 г/см^2\n"
     ]
    }
   ],
   "source": [
    "P0 = (b2-b1)/(a1-a2)\n",
    "r3 = (P0/101330)*5\n",
    "r31 = r3*0.001225\n",
    "err3 = ((5/400)**2 + (s/y31[-1])**2)**0.5\n",
    "r3_err = r3*err3\n",
    "r31_err = r31*err3\n",
    "print(\"Экстраполированный пробег: \", round(r3,3) , \"+-\", round(r3_err,3) , \"см\")\n",
    "print(\"Экстраполированный пробег: \", round(r31,4) , \"+-\", round(r31_err,4) , \"г/см^2\")"
   ]
  },
  {
   "cell_type": "markdown",
   "metadata": {},
   "source": [
    "3\\. Вычислим энергию $\\alpha$-частиц"
   ]
  },
  {
   "cell_type": "code",
   "execution_count": 28,
   "metadata": {},
   "outputs": [
    {
     "name": "stdout",
     "output_type": "stream",
     "text": [
      "Энергия a-частиц:  5.227 +- 0.088 МэВ\n"
     ]
    }
   ],
   "source": [
    "E_a3 = (r3/0.32)**(2/3)\n",
    "E_a3_err = E_a3*err3\n",
    "print(\"Энергия a-частиц: \", round(E_a3,3) , \"+-\", round(E_a3_err,3) , \"МэВ\")"
   ]
  },
  {
   "cell_type": "markdown",
   "metadata": {},
   "source": [
    "Это близко к табличному значению 5.15 МэВ"
   ]
  },
  {
   "cell_type": "markdown",
   "metadata": {},
   "source": [
    "4\\. По полученным данным, расчитаем, какой толщины должен быть листок бумаги, чтобы не пропустить данное $\\alpha$-излучение"
   ]
  },
  {
   "cell_type": "code",
   "execution_count": 29,
   "metadata": {},
   "outputs": [
    {
     "name": "stdout",
     "output_type": "stream",
     "text": [
      "Толщина бумаги: 0.055 мм\n"
     ]
    }
   ],
   "source": [
    "#Плотность воздуха: 0.001225 г/см^3; плотность бумаги: 0.8 г/см^3, откуда:\n",
    "Rpap = ((r3+r2)/2)*(0.001225/0.8)*10\n",
    "print(\"Толщина бумаги:\", round(Rpap,3), \"мм\")"
   ]
  },
  {
   "cell_type": "markdown",
   "metadata": {},
   "source": [
    "Обычная офисная бумага имеет толщину 0.1 мм - она не пропустит $\\alpha$-излучение"
   ]
  },
  {
   "cell_type": "markdown",
   "metadata": {},
   "source": [
    "## Вывод"
   ]
  },
  {
   "cell_type": "markdown",
   "metadata": {},
   "source": [
    "Определили энергию $\\alpha$-частиц по величине их пробега в воздухе, самым точным методом измерений оказалась ионизационная камера"
   ]
  }
 ],
 "metadata": {
  "kernelspec": {
   "display_name": "Python 3",
   "language": "python",
   "name": "python3"
  },
  "language_info": {
   "codemirror_mode": {
    "name": "ipython",
    "version": 3
   },
   "file_extension": ".py",
   "mimetype": "text/x-python",
   "name": "python",
   "nbconvert_exporter": "python",
   "pygments_lexer": "ipython3",
   "version": "3.7.6"
  }
 },
 "nbformat": 4,
 "nbformat_minor": 4
}
