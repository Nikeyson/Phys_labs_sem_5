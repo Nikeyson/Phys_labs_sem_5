{
 "cells": [
  {
   "cell_type": "markdown",
   "metadata": {},
   "source": [
    "# Лабораторная работа"
   ]
  },
  {
   "cell_type": "markdown",
   "metadata": {},
   "source": [
    "## Эффект Рамзауэра - рассеяние медленных электронов на атомах"
   ]
  },
  {
   "cell_type": "markdown",
   "metadata": {},
   "source": [
    "Цель работы: получить ВАХ эффекта на экране ЭО, измерить расстояния между характерными точками в вольтах; снять ВАХ в статическом режиме; по результатам измерений рассчитать размер электронной оболочки атома, оценить глубину потенциальной ямы и потенциал ионизации газа, заполняющего лампу."
   ]
  },
  {
   "cell_type": "markdown",
   "metadata": {},
   "source": [
    "## Теоретические сведения"
   ]
  },
  {
   "cell_type": "markdown",
   "metadata": {},
   "source": [
    "Эффективное сечение реакции --- это величина, характеризующая вероятность перехода системы двух сталкивающихся частиц в результате их рассеяния (упругого или неупругого) в определенное конечное состояние. Сечение $\\sigma$ это отношение числа таких переходов $N$ в единицу времени к плотности потока $nv$ рассеиваемых частиц, падающих на мишень, т.е. к числу частиц, попадающих в единицу времени на единичную площадку, перпендикулярную к их скорости.\n",
    "\t\n",
    "\\begin{equation}\n",
    "\t\\sigma = \\frac{N}{nv}\n",
    "\\end{equation}\n",
    "\t\n",
    "Эффект Рамзауэра нельзя объяснить с позиций классической теории. С квантовой же точки зрения картина рассеяния выглядит следующим образом. Внутри атома потенциальная энергия налетающего электрона отлична от нуля, скорость электрона меняется, становясь равной $v'$ в соответсвии с законом сохранения энергии:\n",
    "\t\\begin{equation}\n",
    "\t\tE = \\frac{mv^2}{2} = \\frac{mv'^2}{2} + U\n",
    "\t\\end{equation}\n",
    "\t\n",
    "а значит, изменяется и длина его волны де Бройля. Таким образом, по отношению к электронной волне атом ведет себя как преломляющая среда с относительным показателем преломления:\n",
    "\t\n",
    "\\begin{equation}\n",
    "\tn = \\frac{\\lambda}{\\lambda'} = \\sqrt{1 - \\frac{U}{E}}\n",
    "\\end{equation}\n",
    "\t\n",
    "Решение задачи о рассеянии электрона на сферическом потенциале достаточно громоздко. Поэтому рассмотрим более простое одномерное приближение: электрон рассеивается на потенциальной яме конечной глубины. Уравнение Шрёдингера в этом случае имеет вид:\n",
    "\t\\begin{equation}\n",
    "\t\t\\psi'' + k^2\\psi = 0 \\qquad k^2 = \\begin{cases}\n",
    "\t\t k_1^2  = \\frac{2mE}{\\hbar^2} \\\\\n",
    "\t\t k_2 = \\frac{2m(E+U_0)}{\\hbar^2}\n",
    "\t\t\\end{cases}\n",
    "\t\\end{equation}\n",
    "\t\n",
    "Коэффициент прохождения равен отношению квадратов амплитуд прошедшей и падающей волн и определяется выражением:\n",
    "\t\\begin{equation}\n",
    "\t\tD = \\frac{16k_1^2k_2^2}{16k_1^2k_2^2 + 4(k_1^2-k_2^2)^2\\sin^2(k_2l)}\n",
    "\t\\end{equation}\n",
    "\t\n",
    "Видно, что коэффициент прохождения частицы над ямой, в зависимости от её энергии, имеет вид чередующихся максимумов и минимумов. В частности, если $k_2l = \\pi$, то коэффициент прохождения равен 1, т.е. отраженная волна отсутствует, и электрон беспрепятственно проходит через атом. Этот эффект является квантовым аналогом просветления оптики. Таким образом, коэффициент прохождения электронов максимален при условии:\n",
    "\t\\begin{equation}\n",
    "\t\tk_2l = \\sqrt{\\frac{2m(E+U_0)}{\\hbar^2}}l = \\pi n\n",
    "\t\\end{equation}\n",
    "    \n",
    "Прошедшая волна 1 усилится волной 2, если геометрическая разность хода между ними $\\Delta = 2l = \\lambda'$, что соответствует условию первого интерференционного максимума, т.е.\n",
    "\t\\begin{equation}\n",
    "\t\t2l = \\frac{h}{\\sqrt{2m(E_1 + U_0)}}\n",
    "\t\\end{equation}\n",
    "\n",
    "C другой стороны, прошедшая волна ослабится, если $2l = \\frac{3}{2}\\lambda'$, т.е.\n",
    "\t\\begin{equation}\n",
    "\t\t2l = \\frac{3}{2}\\frac{h}{\\sqrt{2m(E_2+U_0)}}\n",
    "\t\\end{equation}\n",
    "    \n",
    "Решая эти уравнения совместно можно исключить $U_0$ и найти эффективный размер атома $l$:\n",
    "\t\t\\begin{equation}\n",
    "\t\t\tl = \\frac{h\\sqrt{5}}{\\sqrt{2m(E_2-E_1)}}\n",
    "\t\t\\end{equation}\n",
    "        \n",
    "Понятно, что энергии $E_1$, $E_2$ соответсвуют энергия электронов, прошедших разность потенциалов $V_1$ и $V_2$.\n",
    "\tКроме того, можно оценить эффективную глубину потенциальной ямы атома:\n",
    "\t\\begin{equation}\n",
    "\t\tU_0 =\\frac{4}{5}E_2 - \\frac{9}{5}E_1\n",
    "\t\\end{equation}\n",
    "\t\n",
    "Теперь рассмотрим ВАХ тиратрона. Она имеет вид:\n",
    "\t$$\n",
    "\tI_a = I_0e^{-C\\omega(V)}, C = Ln_a\\Delta_a\n",
    "\t$$\n",
    "где $I_0 = eN_0$ --- ток катода, $I_a = eN_a$ --- анодный ток, $\\Delta_a$ --- площадь поперечного сечения атома, $n_a$ --- концентрация атомов газа в лампе, $L$ --- расстояние от катода до анода, $\\omega(V)$ --- вероятность рассеяния электрона на атоме как функция от ускоряющего напряжения. По измеренной ВАХ тиратрона можно определить зависимость вероятности рассеяния электрона от его энергии из соотношения:\n",
    "\t\\begin{equation}\n",
    "\t\t\\omega(V) = -\\frac{1}{C}\\ln\\frac{I_a}{I_0}\n",
    "\t\\end{equation}"
   ]
  },
  {
   "cell_type": "markdown",
   "metadata": {},
   "source": [
    "## Экспериментальная установка"
   ]
  },
  {
   "cell_type": "markdown",
   "metadata": {},
   "source": [
    "В нашей работе для изучения эффекта Рамзауэра используется тиратрон ТГ3-01/1.3Б , заполненный инертным газом. Схематическое изображение тиратрона и его конструкция приведены на рис. 6."
   ]
  },
  {
   "cell_type": "markdown",
   "metadata": {},
   "source": [
    "![Схема экспериментальной установки](ris6.png)"
   ]
  },
  {
   "cell_type": "markdown",
   "metadata": {},
   "source": [
    "Принципиальная схема установки для изучения эффекта Рамзауэра приведена на рис.8"
   ]
  },
  {
   "cell_type": "markdown",
   "metadata": {},
   "source": [
    "![Схема экспериментальной установки](ris8.png)"
   ]
  },
  {
   "cell_type": "markdown",
   "metadata": {},
   "source": [
    "Блок схема экспериментальной установки изображена на рис. 9"
   ]
  },
  {
   "cell_type": "markdown",
   "metadata": {},
   "source": [
    "![Схема экспериментальной установки](ris9.png)"
   ]
  },
  {
   "cell_type": "markdown",
   "metadata": {},
   "source": [
    "## Ход работы"
   ]
  },
  {
   "cell_type": "markdown",
   "metadata": {},
   "source": [
    "1\\. Подготовили приборы к работе. Переключили установку в динамический режим. Установили напряжение накала в диапазоне 2,5 - 3 В, сняли ВАХ тиратрона при двух значених напряжения накала (ускоряющее напряжение максимально)"
   ]
  },
  {
   "cell_type": "markdown",
   "metadata": {},
   "source": [
    "ВАХ при напряжении накала 2,5 В; ось X - 5В/дел, ось Y - 50 мВ/дел"
   ]
  },
  {
   "cell_type": "markdown",
   "metadata": {},
   "source": [
    "![ВАХ25](VAH25.jpg)"
   ]
  },
  {
   "cell_type": "markdown",
   "metadata": {},
   "source": [
    "ВАХ при напряжении накала 2,66 В; ; ось X - 5В/дел, ось Y - 50 мВ/дел"
   ]
  },
  {
   "cell_type": "markdown",
   "metadata": {},
   "source": [
    "![ВАХ25](VAH266.jpg)"
   ]
  },
  {
   "cell_type": "markdown",
   "metadata": {},
   "source": [
    "При максимальном ускоряющем напряжении, измеряем напряжения между катодом и сеткой, соответсвующие первому максимуму и минимуму на осциллограмме, оцениваем значение пробоя (для каждой ВАХ)"
   ]
  },
  {
   "cell_type": "markdown",
   "metadata": {},
   "source": [
    "Для напряжения накала 2,5 В: $V_{max} = 1.5 В, V_{min} = 6 В, V_{b} = 12 В$"
   ]
  },
  {
   "cell_type": "markdown",
   "metadata": {},
   "source": [
    "Для напряжения накала 2,66 В: $V_{max} = 1.5 В, V_{min} = 7 В, V_{b} = 12 В$"
   ]
  },
  {
   "cell_type": "markdown",
   "metadata": {},
   "source": [
    "2\\. Переключили установку в статический режим. Проводим измерение ВАХ тиратрона для двух значений напряжения (2,5 В; 2,66 В), заносим данные в таблицу."
   ]
  },
  {
   "cell_type": "code",
   "execution_count": 1,
   "metadata": {},
   "outputs": [],
   "source": [
    "import numpy as np\n",
    "import pandas as pd\n",
    "from matplotlib import pyplot as plt"
   ]
  },
  {
   "cell_type": "code",
   "execution_count": 2,
   "metadata": {},
   "outputs": [],
   "source": [
    "table = pd.read_csv('''C:\\\\Users\\\\Nikeyson-PC\\\\Desktop\\\\Laba1-3\\\\Lab_1_3.csv''', sep=';')"
   ]
  },
  {
   "cell_type": "code",
   "execution_count": 3,
   "metadata": {},
   "outputs": [
    {
     "data": {
      "text/html": [
       "<div>\n",
       "<style scoped>\n",
       "    .dataframe tbody tr th:only-of-type {\n",
       "        vertical-align: middle;\n",
       "    }\n",
       "\n",
       "    .dataframe tbody tr th {\n",
       "        vertical-align: top;\n",
       "    }\n",
       "\n",
       "    .dataframe thead th {\n",
       "        text-align: right;\n",
       "    }\n",
       "</style>\n",
       "<table border=\"1\" class=\"dataframe\">\n",
       "  <thead>\n",
       "    <tr style=\"text-align: right;\">\n",
       "      <th></th>\n",
       "      <th>U250</th>\n",
       "      <th>I250</th>\n",
       "      <th>U266</th>\n",
       "      <th>I266</th>\n",
       "    </tr>\n",
       "  </thead>\n",
       "  <tbody>\n",
       "    <tr>\n",
       "      <th>0</th>\n",
       "      <td>0</td>\n",
       "      <td>0,11</td>\n",
       "      <td>0</td>\n",
       "      <td>0,11</td>\n",
       "    </tr>\n",
       "    <tr>\n",
       "      <th>1</th>\n",
       "      <td>0,474</td>\n",
       "      <td>0,11</td>\n",
       "      <td>0,337</td>\n",
       "      <td>0,11</td>\n",
       "    </tr>\n",
       "    <tr>\n",
       "      <th>2</th>\n",
       "      <td>0,611</td>\n",
       "      <td>0,19</td>\n",
       "      <td>0,469</td>\n",
       "      <td>0,14</td>\n",
       "    </tr>\n",
       "    <tr>\n",
       "      <th>3</th>\n",
       "      <td>0,67</td>\n",
       "      <td>0,3</td>\n",
       "      <td>0,541</td>\n",
       "      <td>0,2</td>\n",
       "    </tr>\n",
       "    <tr>\n",
       "      <th>4</th>\n",
       "      <td>0,718</td>\n",
       "      <td>0,49</td>\n",
       "      <td>0,72</td>\n",
       "      <td>1,07</td>\n",
       "    </tr>\n",
       "    <tr>\n",
       "      <th>5</th>\n",
       "      <td>0,813</td>\n",
       "      <td>1,38</td>\n",
       "      <td>0,866</td>\n",
       "      <td>5,12</td>\n",
       "    </tr>\n",
       "    <tr>\n",
       "      <th>6</th>\n",
       "      <td>1,008</td>\n",
       "      <td>9,92</td>\n",
       "      <td>1,076</td>\n",
       "      <td>27,05</td>\n",
       "    </tr>\n",
       "    <tr>\n",
       "      <th>7</th>\n",
       "      <td>1,18</td>\n",
       "      <td>31,62</td>\n",
       "      <td>1,281</td>\n",
       "      <td>68,52</td>\n",
       "    </tr>\n",
       "    <tr>\n",
       "      <th>8</th>\n",
       "      <td>1,239</td>\n",
       "      <td>41,55</td>\n",
       "      <td>1,384</td>\n",
       "      <td>92,81</td>\n",
       "    </tr>\n",
       "    <tr>\n",
       "      <th>9</th>\n",
       "      <td>1,318</td>\n",
       "      <td>56,1</td>\n",
       "      <td>1,5</td>\n",
       "      <td>118,91</td>\n",
       "    </tr>\n",
       "    <tr>\n",
       "      <th>10</th>\n",
       "      <td>1,527</td>\n",
       "      <td>95,8</td>\n",
       "      <td>1,627</td>\n",
       "      <td>143,52</td>\n",
       "    </tr>\n",
       "    <tr>\n",
       "      <th>11</th>\n",
       "      <td>1,731</td>\n",
       "      <td>120,08</td>\n",
       "      <td>1,791</td>\n",
       "      <td>163,69</td>\n",
       "    </tr>\n",
       "    <tr>\n",
       "      <th>12</th>\n",
       "      <td>1,819</td>\n",
       "      <td>123,65</td>\n",
       "      <td>1,956</td>\n",
       "      <td>169,54</td>\n",
       "    </tr>\n",
       "    <tr>\n",
       "      <th>13</th>\n",
       "      <td>1,86</td>\n",
       "      <td>125,2</td>\n",
       "      <td>2,073</td>\n",
       "      <td>166,67</td>\n",
       "    </tr>\n",
       "    <tr>\n",
       "      <th>14</th>\n",
       "      <td>1,939</td>\n",
       "      <td>125,29</td>\n",
       "      <td>2,163</td>\n",
       "      <td>162,01</td>\n",
       "    </tr>\n",
       "    <tr>\n",
       "      <th>15</th>\n",
       "      <td>2,08</td>\n",
       "      <td>116,85</td>\n",
       "      <td>2,278</td>\n",
       "      <td>154,42</td>\n",
       "    </tr>\n",
       "    <tr>\n",
       "      <th>16</th>\n",
       "      <td>2,258</td>\n",
       "      <td>102,34</td>\n",
       "      <td>2,4</td>\n",
       "      <td>145,61</td>\n",
       "    </tr>\n",
       "    <tr>\n",
       "      <th>17</th>\n",
       "      <td>2,517</td>\n",
       "      <td>82,85</td>\n",
       "      <td>2,639</td>\n",
       "      <td>130,13</td>\n",
       "    </tr>\n",
       "    <tr>\n",
       "      <th>18</th>\n",
       "      <td>2,766</td>\n",
       "      <td>65,23</td>\n",
       "      <td>2,818</td>\n",
       "      <td>119,47</td>\n",
       "    </tr>\n",
       "    <tr>\n",
       "      <th>19</th>\n",
       "      <td>2,919</td>\n",
       "      <td>57,3</td>\n",
       "      <td>3,019</td>\n",
       "      <td>109,11</td>\n",
       "    </tr>\n",
       "    <tr>\n",
       "      <th>20</th>\n",
       "      <td>3,015</td>\n",
       "      <td>53,12</td>\n",
       "      <td>3,296</td>\n",
       "      <td>96,59</td>\n",
       "    </tr>\n",
       "    <tr>\n",
       "      <th>21</th>\n",
       "      <td>3,208</td>\n",
       "      <td>46,91</td>\n",
       "      <td>3,479</td>\n",
       "      <td>89,95</td>\n",
       "    </tr>\n",
       "    <tr>\n",
       "      <th>22</th>\n",
       "      <td>3,431</td>\n",
       "      <td>43,8</td>\n",
       "      <td>3,728</td>\n",
       "      <td>80,8</td>\n",
       "    </tr>\n",
       "    <tr>\n",
       "      <th>23</th>\n",
       "      <td>4,066</td>\n",
       "      <td>32,23</td>\n",
       "      <td>4,11</td>\n",
       "      <td>70,34</td>\n",
       "    </tr>\n",
       "    <tr>\n",
       "      <th>24</th>\n",
       "      <td>4,284</td>\n",
       "      <td>29,84</td>\n",
       "      <td>4,428</td>\n",
       "      <td>64,01</td>\n",
       "    </tr>\n",
       "    <tr>\n",
       "      <th>25</th>\n",
       "      <td>4,566</td>\n",
       "      <td>27,3</td>\n",
       "      <td>4,872</td>\n",
       "      <td>57,11</td>\n",
       "    </tr>\n",
       "    <tr>\n",
       "      <th>26</th>\n",
       "      <td>5,075</td>\n",
       "      <td>24,41</td>\n",
       "      <td>5,291</td>\n",
       "      <td>52,53</td>\n",
       "    </tr>\n",
       "    <tr>\n",
       "      <th>27</th>\n",
       "      <td>5,54</td>\n",
       "      <td>22,43</td>\n",
       "      <td>5,758</td>\n",
       "      <td>49,21</td>\n",
       "    </tr>\n",
       "    <tr>\n",
       "      <th>28</th>\n",
       "      <td>6,1</td>\n",
       "      <td>21,6</td>\n",
       "      <td>6,343</td>\n",
       "      <td>46,8</td>\n",
       "    </tr>\n",
       "    <tr>\n",
       "      <th>29</th>\n",
       "      <td>7,22</td>\n",
       "      <td>21,51</td>\n",
       "      <td>6,683</td>\n",
       "      <td>45,9</td>\n",
       "    </tr>\n",
       "    <tr>\n",
       "      <th>30</th>\n",
       "      <td>8,263</td>\n",
       "      <td>23,6</td>\n",
       "      <td>7,014</td>\n",
       "      <td>45,79</td>\n",
       "    </tr>\n",
       "    <tr>\n",
       "      <th>31</th>\n",
       "      <td>9,336</td>\n",
       "      <td>27,62</td>\n",
       "      <td>7,411</td>\n",
       "      <td>46,9</td>\n",
       "    </tr>\n",
       "    <tr>\n",
       "      <th>32</th>\n",
       "      <td>6,333</td>\n",
       "      <td>22,34</td>\n",
       "      <td>7,653</td>\n",
       "      <td>47,9</td>\n",
       "    </tr>\n",
       "    <tr>\n",
       "      <th>33</th>\n",
       "      <td>6,64</td>\n",
       "      <td>22,12</td>\n",
       "      <td>8,091</td>\n",
       "      <td>50,19</td>\n",
       "    </tr>\n",
       "    <tr>\n",
       "      <th>34</th>\n",
       "      <td>7,2</td>\n",
       "      <td>21,5</td>\n",
       "      <td>8,344</td>\n",
       "      <td>51,72</td>\n",
       "    </tr>\n",
       "    <tr>\n",
       "      <th>35</th>\n",
       "      <td>7,47</td>\n",
       "      <td>21,6</td>\n",
       "      <td>8,8</td>\n",
       "      <td>54,3</td>\n",
       "    </tr>\n",
       "    <tr>\n",
       "      <th>36</th>\n",
       "      <td>7,79</td>\n",
       "      <td>22</td>\n",
       "      <td>9,164</td>\n",
       "      <td>58,36</td>\n",
       "    </tr>\n",
       "    <tr>\n",
       "      <th>37</th>\n",
       "      <td>10,3</td>\n",
       "      <td>36,83</td>\n",
       "      <td>9,61</td>\n",
       "      <td>63,62</td>\n",
       "    </tr>\n",
       "    <tr>\n",
       "      <th>38</th>\n",
       "      <td>11,03</td>\n",
       "      <td>40,9</td>\n",
       "      <td>10,097</td>\n",
       "      <td>77,54</td>\n",
       "    </tr>\n",
       "    <tr>\n",
       "      <th>39</th>\n",
       "      <td>7,5</td>\n",
       "      <td>33,7</td>\n",
       "      <td>NaN</td>\n",
       "      <td>NaN</td>\n",
       "    </tr>\n",
       "    <tr>\n",
       "      <th>40</th>\n",
       "      <td>7,9</td>\n",
       "      <td>31</td>\n",
       "      <td>NaN</td>\n",
       "      <td>NaN</td>\n",
       "    </tr>\n",
       "    <tr>\n",
       "      <th>41</th>\n",
       "      <td>8,2</td>\n",
       "      <td>30,5</td>\n",
       "      <td>NaN</td>\n",
       "      <td>NaN</td>\n",
       "    </tr>\n",
       "    <tr>\n",
       "      <th>42</th>\n",
       "      <td>8,8</td>\n",
       "      <td>32,5</td>\n",
       "      <td>NaN</td>\n",
       "      <td>NaN</td>\n",
       "    </tr>\n",
       "    <tr>\n",
       "      <th>43</th>\n",
       "      <td>9,663</td>\n",
       "      <td>37,6</td>\n",
       "      <td>NaN</td>\n",
       "      <td>NaN</td>\n",
       "    </tr>\n",
       "    <tr>\n",
       "      <th>44</th>\n",
       "      <td>10,123</td>\n",
       "      <td>45,73</td>\n",
       "      <td>NaN</td>\n",
       "      <td>NaN</td>\n",
       "    </tr>\n",
       "    <tr>\n",
       "      <th>45</th>\n",
       "      <td>11,22</td>\n",
       "      <td>54,52</td>\n",
       "      <td>NaN</td>\n",
       "      <td>NaN</td>\n",
       "    </tr>\n",
       "  </tbody>\n",
       "</table>\n",
       "</div>"
      ],
      "text/plain": [
       "      U250    I250    U266    I266\n",
       "0        0    0,11       0    0,11\n",
       "1    0,474    0,11   0,337    0,11\n",
       "2    0,611    0,19   0,469    0,14\n",
       "3     0,67     0,3   0,541     0,2\n",
       "4    0,718    0,49    0,72    1,07\n",
       "5    0,813    1,38   0,866    5,12\n",
       "6    1,008    9,92   1,076   27,05\n",
       "7     1,18   31,62   1,281   68,52\n",
       "8    1,239   41,55   1,384   92,81\n",
       "9    1,318    56,1     1,5  118,91\n",
       "10   1,527    95,8   1,627  143,52\n",
       "11   1,731  120,08   1,791  163,69\n",
       "12   1,819  123,65   1,956  169,54\n",
       "13    1,86   125,2   2,073  166,67\n",
       "14   1,939  125,29   2,163  162,01\n",
       "15    2,08  116,85   2,278  154,42\n",
       "16   2,258  102,34     2,4  145,61\n",
       "17   2,517   82,85   2,639  130,13\n",
       "18   2,766   65,23   2,818  119,47\n",
       "19   2,919    57,3   3,019  109,11\n",
       "20   3,015   53,12   3,296   96,59\n",
       "21   3,208   46,91   3,479   89,95\n",
       "22   3,431    43,8   3,728    80,8\n",
       "23   4,066   32,23    4,11   70,34\n",
       "24   4,284   29,84   4,428   64,01\n",
       "25   4,566    27,3   4,872   57,11\n",
       "26   5,075   24,41   5,291   52,53\n",
       "27    5,54   22,43   5,758   49,21\n",
       "28     6,1    21,6   6,343    46,8\n",
       "29    7,22   21,51   6,683    45,9\n",
       "30   8,263    23,6   7,014   45,79\n",
       "31   9,336   27,62   7,411    46,9\n",
       "32   6,333   22,34   7,653    47,9\n",
       "33    6,64   22,12   8,091   50,19\n",
       "34     7,2    21,5   8,344   51,72\n",
       "35    7,47    21,6     8,8    54,3\n",
       "36    7,79      22   9,164   58,36\n",
       "37    10,3   36,83    9,61   63,62\n",
       "38   11,03    40,9  10,097   77,54\n",
       "39     7,5    33,7     NaN     NaN\n",
       "40     7,9      31     NaN     NaN\n",
       "41     8,2    30,5     NaN     NaN\n",
       "42     8,8    32,5     NaN     NaN\n",
       "43   9,663    37,6     NaN     NaN\n",
       "44  10,123   45,73     NaN     NaN\n",
       "45   11,22   54,52     NaN     NaN"
      ]
     },
     "execution_count": 3,
     "metadata": {},
     "output_type": "execute_result"
    }
   ],
   "source": [
    "table"
   ]
  },
  {
   "cell_type": "markdown",
   "metadata": {},
   "source": [
    "3\\. Расчитываем размер электронной оболочки атома инертного газа, заполняющего лампу."
   ]
  },
  {
   "cell_type": "code",
   "execution_count": 15,
   "metadata": {},
   "outputs": [
    {
     "name": "stdout",
     "output_type": "stream",
     "text": [
      "l1 =  3.12002501663159 A\n",
      "l2 =  2.964129027932821 A\n"
     ]
    }
   ],
   "source": [
    "h = 6.626 * (10**-34)\n",
    "l1 = (h*(5**0.5)/((32*9.1*(10**-31)*1.6*(10**-19)*(6.63-1.79))**0.5))*(10**10)\n",
    "print(\"l1 = \", l1, \"A\")\n",
    "l2 = ((h/((2*9.1*(10**-31)*1.6*(10**-19)*(1.79+2.5))**0.5))/2)*(10**10)\n",
    "print(\"l2 = \", l2, \"A\")"
   ]
  },
  {
   "cell_type": "markdown",
   "metadata": {},
   "source": [
    "4\\. Оцениваем глубину потенциальной ямы"
   ]
  },
  {
   "cell_type": "code",
   "execution_count": 5,
   "metadata": {},
   "outputs": [
    {
     "name": "stdout",
     "output_type": "stream",
     "text": [
      "U0 =  2.1000000000000005 eВ\n"
     ]
    }
   ],
   "source": [
    "u0 = (4/5)*6 - (9/5)*1.5\n",
    "print(\"U0 = \", u0, \"eВ\")"
   ]
  },
  {
   "cell_type": "markdown",
   "metadata": {},
   "source": [
    "5\\. Оцениваем потенциал ионизации инертного газа по напряжению пробоя, из того что оно равно 12В, газ в тиратроне - ксенон"
   ]
  },
  {
   "cell_type": "markdown",
   "metadata": {},
   "source": [
    "6\\. Строим график $I_a=f(V_c)$ для статического режима"
   ]
  },
  {
   "cell_type": "code",
   "execution_count": 6,
   "metadata": {},
   "outputs": [],
   "source": [
    "x1 = np.array(table.iloc[:, 0].str.replace(',', '.').astype(float))\n",
    "y1 = np.array(table.iloc[:, 1].str.replace(',', '.').astype(float))"
   ]
  },
  {
   "cell_type": "code",
   "execution_count": 7,
   "metadata": {},
   "outputs": [],
   "source": [
    "x2 = np.array(table.iloc[:39, 2].str.replace(',', '.').astype(float))\n",
    "y2 = np.array(table.iloc[:39, 3].str.replace(',', '.').astype(float))"
   ]
  },
  {
   "cell_type": "code",
   "execution_count": 8,
   "metadata": {},
   "outputs": [
    {
     "data": {
      "image/png": "[encoded data removed]",
      "text/plain": [
       "<Figure size 1200x800 with 1 Axes>"
      ]
     },
     "metadata": {
      "needs_background": "light"
     },
     "output_type": "display_data"
    }
   ],
   "source": [
    "fig = plt.figure(figsize= (12, 8), dpi= 100)\n",
    "ax1 = fig.add_subplot()\n",
    "ax1.plot(x1, y1, 'o' ,label= \"Всё\")\n",
    "ax1.grid(True)\n",
    "plt.xlabel(\"U, В\")\n",
    "plt.ylabel(\"$I_a$, $10^{-8}$ A\")\n",
    "plt.title(\"ВАХ при напряжении накала 2,5 В\")\n",
    "plt.show()"
   ]
  },
  {
   "cell_type": "code",
   "execution_count": 9,
   "metadata": {},
   "outputs": [
    {
     "data": {
      "image/png": "[encoded data removed]",
      "text/plain": [
       "<Figure size 1200x800 with 1 Axes>"
      ]
     },
     "metadata": {
      "needs_background": "light"
     },
     "output_type": "display_data"
    }
   ],
   "source": [
    "fig = plt.figure(figsize= (12, 8), dpi= 100)\n",
    "ax1 = fig.add_subplot()\n",
    "ax1.plot(x2, y2, 'o' ,label= \"Всё\")\n",
    "ax1.grid(True)\n",
    "plt.xlabel(\"U, В\")\n",
    "plt.ylabel(\"$I_a$, $10^{-8}$ A\")\n",
    "plt.title(\"ВАХ при напряжении накала 2,66 В\")\n",
    "plt.show()"
   ]
  },
  {
   "cell_type": "markdown",
   "metadata": {},
   "source": [
    "Проводим аналогичные расчеты для статического режима"
   ]
  },
  {
   "cell_type": "markdown",
   "metadata": {},
   "source": [
    "Размер электронной оболочки атома:"
   ]
  },
  {
   "cell_type": "code",
   "execution_count": 10,
   "metadata": {},
   "outputs": [
    {
     "name": "stdout",
     "output_type": "stream",
     "text": [
      "l1_1 =  2.9869136895171904 A\n",
      "l1_2 =  2.9139572634396087 A\n",
      "l2_1 =  3.0520478946749527 A\n",
      "l2_2 =  2.9083934605900854 A\n"
     ]
    }
   ],
   "source": [
    "h = 6.626 * (10**-34)\n",
    "l11 = (h*(5**0.5)/((32*9.1*(10**-31)*1.6*(10**-19)*(7.22-1.939))**0.5))*(10**10)\n",
    "l21 = (h*(5**0.5)/((32*9.1*(10**-31)*1.6*(10**-19)*(7.014-1.956))**0.5))*(10**10)\n",
    "l12 = ((h/((2*9.1*(10**-31)*1.6*(10**-19)*(1.939+2.5))**0.5))/2)*(10**10)\n",
    "l22 = ((h/((2*9.1*(10**-31)*1.6*(10**-19)*(1.956+2.5))**0.5))/2)*(10**10)\n",
    "print(\"l1_1 = \", l11, \"A\")\n",
    "print(\"l1_2 = \", l12, \"A\")\n",
    "print(\"l2_1 = \", l21, \"A\")\n",
    "print(\"l2_2 = \", l22, \"A\")"
   ]
  },
  {
   "cell_type": "markdown",
   "metadata": {},
   "source": [
    "Глубина потенциальной ямы:"
   ]
  },
  {
   "cell_type": "code",
   "execution_count": 11,
   "metadata": {},
   "outputs": [
    {
     "name": "stdout",
     "output_type": "stream",
     "text": [
      "U0_1 =  2.2857999999999996 eВ\n",
      "U0_2 =  2.0904000000000003 eВ\n"
     ]
    }
   ],
   "source": [
    "u01 = (4/5)*7.22 - (9/5)*1.939\n",
    "u02 = (4/5)*7.014 - (9/5)*1.956\n",
    "print(\"U0_1 = \", u01, \"eВ\")\n",
    "print(\"U0_2 = \", u02, \"eВ\")"
   ]
  },
  {
   "cell_type": "markdown",
   "metadata": {},
   "source": [
    "7\\. Оценим, при каких напряжениях должны появляться максимумы в коэффициенте прохождения электронов для n=2,3"
   ]
  },
  {
   "cell_type": "markdown",
   "metadata": {},
   "source": [
    "$E_n = n^2\\left(E_1+U_0\\right)-U_0$"
   ]
  },
  {
   "cell_type": "code",
   "execution_count": 12,
   "metadata": {},
   "outputs": [
    {
     "name": "stdout",
     "output_type": "stream",
     "text": [
      "E2_1 =  14.6134 eВ\n",
      "E2_2 =  14.0952 eВ\n",
      "E3_1 =  35.7374 eВ\n",
      "E3_2 =  34.3272 eВ\n"
     ]
    }
   ],
   "source": [
    "E2_1 = 4*(1.939 + u01) - u01\n",
    "E2_2 = 4*(1.956 + u02) - u02\n",
    "E3_1 = 9*(1.939 + u01) - u01\n",
    "E3_2 = 9*(1.956 + u02) - u02\n",
    "print(\"E2_1 = \", E2_1, \"eВ\")\n",
    "print(\"E2_2 = \", E2_2, \"eВ\")\n",
    "print(\"E3_1 = \", E3_1, \"eВ\")\n",
    "print(\"E3_2 = \", E3_2, \"eВ\")"
   ]
  },
  {
   "cell_type": "markdown",
   "metadata": {},
   "source": [
    "8\\. Находим зависимость вероятности рассеяния электронов от энергии (напряжения) с точностью до константы, строим график зависимости"
   ]
  },
  {
   "cell_type": "markdown",
   "metadata": {},
   "source": [
    "$\\omega(V) = -\\frac{1}{C}\\ln\\frac{I_a}{I_0}$"
   ]
  },
  {
   "cell_type": "code",
   "execution_count": 13,
   "metadata": {},
   "outputs": [],
   "source": [
    "c = 8\n",
    "z = [np.log((y2[i]*0.001)/x2[i])*(-1)/c for i in range(1,len(x2))]\n",
    "x2 = x2[1:]"
   ]
  },
  {
   "cell_type": "code",
   "execution_count": 14,
   "metadata": {},
   "outputs": [
    {
     "data": {
      "image/png": "[encoded data removed]",
      "text/plain": [
       "<Figure size 1200x800 with 1 Axes>"
      ]
     },
     "metadata": {
      "needs_background": "light"
     },
     "output_type": "display_data"
    }
   ],
   "source": [
    "fig = plt.figure(figsize= (12, 8), dpi= 100)\n",
    "ax1 = fig.add_subplot()\n",
    "ax1.plot(x2, z, 'o' ,label= \"Всё\")\n",
    "ax1.grid(True)\n",
    "plt.xlabel(\"U, В\")\n",
    "plt.ylabel(\"$\\omega(U)$\")\n",
    "plt.title(\"Зависимость вероятности рассеяния от напряжения на катоде\")\n",
    "plt.show()"
   ]
  },
  {
   "cell_type": "markdown",
   "metadata": {},
   "source": [
    "## Вывод"
   ]
  },
  {
   "cell_type": "markdown",
   "metadata": {},
   "source": [
    "Расчитали размер электронной оболочки атома ксенона, оценили глубину потенциальной ямы. Изучили вероятность рассеяния электронов на атоме ксенона."
   ]
  },
  {
   "cell_type": "code",
   "execution_count": null,
   "metadata": {},
   "outputs": [],
   "source": []
  }
 ],
 "metadata": {
  "kernelspec": {
   "display_name": "Python 3",
   "language": "python",
   "name": "python3"
  },
  "language_info": {
   "codemirror_mode": {
    "name": "ipython",
    "version": 3
   },
   "file_extension": ".py",
   "mimetype": "text/x-python",
   "name": "python",
   "nbconvert_exporter": "python",
   "pygments_lexer": "ipython3",
   "version": "3.7.6"
  }
 },
 "nbformat": 4,
 "nbformat_minor": 4
}
