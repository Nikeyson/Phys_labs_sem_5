{
 "cells": [
  {
   "cell_type": "markdown",
   "metadata": {},
   "source": [
    "# Лабораторная работа"
   ]
  },
  {
   "cell_type": "markdown",
   "metadata": {},
   "source": [
    "## Исследование энергетического спектра $\\beta$-частиц и определение их максимальной энергии при помощи магнитного спектрометра"
   ]
  },
  {
   "cell_type": "markdown",
   "metadata": {},
   "source": [
    "## Теоретические сведения"
   ]
  },
  {
   "cell_type": "markdown",
   "metadata": {},
   "source": [
    "Бета-распад это самопроизвольное преваращение ядер, при котором их массовове число не изменяется, а заряд изменяется на единицу. В данной работе мы будем иметь дело с электронным распадом:\n",
    "\t\t\\begin{equation}\n",
    "\t\t    _{Z}^{A}X \\rightarrow _{Z+1}^{A}X + e^{-} + \\widetilde{\\nu}\n",
    "\t\t\\end{equation}\n",
    "\t\tОсвобождающаяся в результате распада энергия делится между исходным ядром, электроном и нейтрино. При этом доля энергии, уносимая ядром крайне мала, так что вся энергия делится между нейтрино и электроном. Поэтому электроны могут иметь любую энергию от нулевой до некоторой макимальной энергии, высвобождаемой при распаде.\n",
    "\t\t\n",
    "Вероятность $d\\omega$ того, что электрон вылетит с имульсом $d^3p$, а нейтрино с импульсом $d^3k$ равна произведению этих дифференциалов, но мы должны учесть также закон сохранения энергии.\n",
    "\t\t\\begin{equation}\n",
    "\t\t    E_e - E - ck = 0\n",
    "\t\t\\end{equation}\n",
    "\t\tЭнергия электрона связана с импульсом обычным образом:\n",
    "\t\t\\begin{equation}\n",
    "\t\t    E = c\\sqrt{p^2 + m^2c^2} -mc^2\n",
    "\t\t\\end{equation}\n",
    "\t\tТаким образом, вероятность $d\\omega$ принимает вид:\n",
    "\t\t\\begin{equation}\n",
    "\t\t    d\\omega = D\\delta(E_e-E-ck)d^3p d^3k = D\\delta(E_e-E-ck)p^2d pk^2 d k d\\Omega_e d\\Omega_{\\widetilde{\\nu}}\n",
    "\t\t\\end{equation}\n",
    "\t\tD можно считать с хорошей точностью константой. В этом случае можно проинтегрировать по всем углам и по абсолютному значению импульса нейтрино. В этом случае $\\delta$-функция исчезнет, а $ck$ всюду заменится на $E_e-E$. После умножения на полное число распадов выражение примет вид:\n",
    "\t\t\\begin{equation}\n",
    "\t\t    d N = \\frac{16\\pi^2N_0}{c^2} D p^2\\left(E_e-E\\right)^2 d p\n",
    "\t\t\\end{equation}\n",
    "\t\tВ нерелятивистском случае выражение упрощается и принимает вид:\n",
    "\t\t\\begin{equation}\n",
    "\t\t\t\\frac{d N}{d E} \\simeq \\sqrt{E}(E_e - E)^2\n",
    "\t\t\\end{equation} \n"
   ]
  },
  {
   "cell_type": "markdown",
   "metadata": {},
   "source": [
    "## Экспериментальная установка"
   ]
  },
  {
   "cell_type": "markdown",
   "metadata": {},
   "source": [
    "Энергия определяется с помощью $\\beta$-спектрометров. В работе используется магнитный спектрометр с короткой линзой.\n",
    "\t\tКак показывает расчет, для заряженных частиц тонкая катушка эквивалентна линзе:\n",
    "\t\t\\begin{equation}\n",
    "\t\t\t\\frac{1}{f} \\simeq \\frac{I^2}{p_e^2}\n",
    "\t\t\\end{equation}\n",
    "\t\tПри заданной силе тока на входное окно счетчика собираются электроны с определенным импульсом."
   ]
  },
  {
   "cell_type": "markdown",
   "metadata": {},
   "source": [
    "![Схема экспериментальной установки](risun1.png)"
   ]
  },
  {
   "cell_type": "markdown",
   "metadata": {},
   "source": [
    "![Схема экспериментальной установки](risun2.png)"
   ]
  },
  {
   "cell_type": "markdown",
   "metadata": {},
   "source": [
    "![Схема экспериментальной установки](risun3.png)"
   ]
  },
  {
   "cell_type": "markdown",
   "metadata": {},
   "source": [
    "## Ход работы"
   ]
  },
  {
   "cell_type": "markdown",
   "metadata": {},
   "source": [
    "1\\. Запускаем и настраиваем установку. Проводим измерения $\\beta$-спектра, изменяя ток магнитной линзы от 0.2А до 5А, заносим результаты в таблицу. Также измеряем фоновое излучение, оно равно $N_b$ = 0.6 1/с"
   ]
  },
  {
   "cell_type": "code",
   "execution_count": 2,
   "metadata": {},
   "outputs": [],
   "source": [
    "import numpy as np\n",
    "import pandas as pd\n",
    "from matplotlib import pyplot as plt"
   ]
  },
  {
   "cell_type": "code",
   "execution_count": 3,
   "metadata": {},
   "outputs": [],
   "source": [
    "table = pd.read_csv('''C:\\\\Users\\\\Nikeyson-PC\\\\Desktop\\\\Lab_4_2.csv''', sep=';')"
   ]
  },
  {
   "cell_type": "code",
   "execution_count": 4,
   "metadata": {},
   "outputs": [
    {
     "data": {
      "text/html": [
       "<div>\n",
       "<style scoped>\n",
       "    .dataframe tbody tr th:only-of-type {\n",
       "        vertical-align: middle;\n",
       "    }\n",
       "\n",
       "    .dataframe tbody tr th {\n",
       "        vertical-align: top;\n",
       "    }\n",
       "\n",
       "    .dataframe thead th {\n",
       "        text-align: right;\n",
       "    }\n",
       "</style>\n",
       "<table border=\"1\" class=\"dataframe\">\n",
       "  <thead>\n",
       "    <tr style=\"text-align: right;\">\n",
       "      <th></th>\n",
       "      <th>I, A</th>\n",
       "      <th>N, 1/s</th>\n",
       "      <th>N-Nb, 1/s</th>\n",
       "      <th>p, keV/s</th>\n",
       "      <th>T, keV</th>\n",
       "      <th>mkFermi</th>\n",
       "    </tr>\n",
       "  </thead>\n",
       "  <tbody>\n",
       "    <tr>\n",
       "      <th>0</th>\n",
       "      <td>0,2</td>\n",
       "      <td>0,69</td>\n",
       "      <td>0,09</td>\n",
       "      <td>47,7</td>\n",
       "      <td>2,2</td>\n",
       "      <td>910,6336326</td>\n",
       "    </tr>\n",
       "    <tr>\n",
       "      <th>1</th>\n",
       "      <td>0,4</td>\n",
       "      <td>0,64</td>\n",
       "      <td>0,04</td>\n",
       "      <td>95,4</td>\n",
       "      <td>8,8</td>\n",
       "      <td>214,6384056</td>\n",
       "    </tr>\n",
       "    <tr>\n",
       "      <th>2</th>\n",
       "      <td>0,6</td>\n",
       "      <td>0,6</td>\n",
       "      <td>0</td>\n",
       "      <td>143,1</td>\n",
       "      <td>19,7</td>\n",
       "      <td>0</td>\n",
       "    </tr>\n",
       "    <tr>\n",
       "      <th>3</th>\n",
       "      <td>0,8</td>\n",
       "      <td>0,56</td>\n",
       "      <td>-0,04</td>\n",
       "      <td>190,8</td>\n",
       "      <td>34,5</td>\n",
       "      <td>0</td>\n",
       "    </tr>\n",
       "    <tr>\n",
       "      <th>4</th>\n",
       "      <td>1</td>\n",
       "      <td>1,12</td>\n",
       "      <td>0,52</td>\n",
       "      <td>238,5</td>\n",
       "      <td>52,9</td>\n",
       "      <td>195,7803483</td>\n",
       "    </tr>\n",
       "    <tr>\n",
       "      <th>5</th>\n",
       "      <td>1,2</td>\n",
       "      <td>1,799</td>\n",
       "      <td>1,199</td>\n",
       "      <td>286,2</td>\n",
       "      <td>74,7</td>\n",
       "      <td>226,1544551</td>\n",
       "    </tr>\n",
       "    <tr>\n",
       "      <th>6</th>\n",
       "      <td>1,4</td>\n",
       "      <td>3,569</td>\n",
       "      <td>2,969</td>\n",
       "      <td>333,9</td>\n",
       "      <td>99,4</td>\n",
       "      <td>282,4102597</td>\n",
       "    </tr>\n",
       "    <tr>\n",
       "      <th>7</th>\n",
       "      <td>1,6</td>\n",
       "      <td>5,188</td>\n",
       "      <td>4,588</td>\n",
       "      <td>381,6</td>\n",
       "      <td>126,8</td>\n",
       "      <td>287,34203</td>\n",
       "    </tr>\n",
       "    <tr>\n",
       "      <th>8</th>\n",
       "      <td>1,8</td>\n",
       "      <td>6,498</td>\n",
       "      <td>5,898</td>\n",
       "      <td>429,3</td>\n",
       "      <td>156,4</td>\n",
       "      <td>273,0304289</td>\n",
       "    </tr>\n",
       "    <tr>\n",
       "      <th>9</th>\n",
       "      <td>2</td>\n",
       "      <td>8,088</td>\n",
       "      <td>7,488</td>\n",
       "      <td>477</td>\n",
       "      <td>188</td>\n",
       "      <td>262,6669004</td>\n",
       "    </tr>\n",
       "    <tr>\n",
       "      <th>10</th>\n",
       "      <td>2,2</td>\n",
       "      <td>9,197</td>\n",
       "      <td>8,597</td>\n",
       "      <td>524,7</td>\n",
       "      <td>221,4</td>\n",
       "      <td>243,9533954</td>\n",
       "    </tr>\n",
       "    <tr>\n",
       "      <th>11</th>\n",
       "      <td>2,4</td>\n",
       "      <td>10,667</td>\n",
       "      <td>10,067</td>\n",
       "      <td>572,4</td>\n",
       "      <td>256,3</td>\n",
       "      <td>231,6864295</td>\n",
       "    </tr>\n",
       "    <tr>\n",
       "      <th>12</th>\n",
       "      <td>2,6</td>\n",
       "      <td>11,647</td>\n",
       "      <td>11,047</td>\n",
       "      <td>620,1</td>\n",
       "      <td>292,5</td>\n",
       "      <td>215,2432694</td>\n",
       "    </tr>\n",
       "    <tr>\n",
       "      <th>13</th>\n",
       "      <td>2,8</td>\n",
       "      <td>10,277</td>\n",
       "      <td>9,677</td>\n",
       "      <td>667,8</td>\n",
       "      <td>329,9</td>\n",
       "      <td>180,2605735</td>\n",
       "    </tr>\n",
       "    <tr>\n",
       "      <th>14</th>\n",
       "      <td>3</td>\n",
       "      <td>8,448</td>\n",
       "      <td>7,848</td>\n",
       "      <td>715,5</td>\n",
       "      <td>368,2</td>\n",
       "      <td>146,3743704</td>\n",
       "    </tr>\n",
       "    <tr>\n",
       "      <th>15</th>\n",
       "      <td>3,2</td>\n",
       "      <td>6,408</td>\n",
       "      <td>5,808</td>\n",
       "      <td>763,2</td>\n",
       "      <td>407,5</td>\n",
       "      <td>114,3025084</td>\n",
       "    </tr>\n",
       "    <tr>\n",
       "      <th>16</th>\n",
       "      <td>3,4</td>\n",
       "      <td>4,649</td>\n",
       "      <td>4,049</td>\n",
       "      <td>810,9</td>\n",
       "      <td>447,5</td>\n",
       "      <td>87,14107992</td>\n",
       "    </tr>\n",
       "    <tr>\n",
       "      <th>17</th>\n",
       "      <td>3,6</td>\n",
       "      <td>2,639</td>\n",
       "      <td>2,039</td>\n",
       "      <td>858,6</td>\n",
       "      <td>488,1</td>\n",
       "      <td>56,75737308</td>\n",
       "    </tr>\n",
       "    <tr>\n",
       "      <th>18</th>\n",
       "      <td>3,8</td>\n",
       "      <td>1,65</td>\n",
       "      <td>1,05</td>\n",
       "      <td>906,3</td>\n",
       "      <td>529,4</td>\n",
       "      <td>37,55663553</td>\n",
       "    </tr>\n",
       "    <tr>\n",
       "      <th>19</th>\n",
       "      <td>4</td>\n",
       "      <td>1,49</td>\n",
       "      <td>0,89</td>\n",
       "      <td>954</td>\n",
       "      <td>571,2</td>\n",
       "      <td>32,01639587</td>\n",
       "    </tr>\n",
       "    <tr>\n",
       "      <th>20</th>\n",
       "      <td>4,1</td>\n",
       "      <td>6,988</td>\n",
       "      <td>6,388</td>\n",
       "      <td>977,85</td>\n",
       "      <td>592,3</td>\n",
       "      <td>82,65594463</td>\n",
       "    </tr>\n",
       "    <tr>\n",
       "      <th>21</th>\n",
       "      <td>4,2</td>\n",
       "      <td>12,856</td>\n",
       "      <td>12,256</td>\n",
       "      <td>1001,7</td>\n",
       "      <td>613,5</td>\n",
       "      <td>110,4251163</td>\n",
       "    </tr>\n",
       "    <tr>\n",
       "      <th>22</th>\n",
       "      <td>4,3</td>\n",
       "      <td>12,736</td>\n",
       "      <td>12,136</td>\n",
       "      <td>1025,55</td>\n",
       "      <td>634,8</td>\n",
       "      <td>106,0724318</td>\n",
       "    </tr>\n",
       "    <tr>\n",
       "      <th>23</th>\n",
       "      <td>4,4</td>\n",
       "      <td>9,257</td>\n",
       "      <td>8,657</td>\n",
       "      <td>1049,4</td>\n",
       "      <td>656,2</td>\n",
       "      <td>86,55100577</td>\n",
       "    </tr>\n",
       "    <tr>\n",
       "      <th>24</th>\n",
       "      <td>4,5</td>\n",
       "      <td>3,739</td>\n",
       "      <td>3,139</td>\n",
       "      <td>1073,25</td>\n",
       "      <td>677,7</td>\n",
       "      <td>50,38999464</td>\n",
       "    </tr>\n",
       "    <tr>\n",
       "      <th>25</th>\n",
       "      <td>4,6</td>\n",
       "      <td>1,54</td>\n",
       "      <td>0,94</td>\n",
       "      <td>1097,1</td>\n",
       "      <td>699,3</td>\n",
       "      <td>26,68053932</td>\n",
       "    </tr>\n",
       "    <tr>\n",
       "      <th>26</th>\n",
       "      <td>4,8</td>\n",
       "      <td>0,63</td>\n",
       "      <td>0,03</td>\n",
       "      <td>1144,8</td>\n",
       "      <td>742,7</td>\n",
       "      <td>4,47163345</td>\n",
       "    </tr>\n",
       "    <tr>\n",
       "      <th>27</th>\n",
       "      <td>5</td>\n",
       "      <td>0,4</td>\n",
       "      <td>-0,2</td>\n",
       "      <td>1192,5</td>\n",
       "      <td>786,4</td>\n",
       "      <td>0</td>\n",
       "    </tr>\n",
       "  </tbody>\n",
       "</table>\n",
       "</div>"
      ],
      "text/plain": [
       "   I, A  N, 1/s N-Nb, 1/s p, keV/s T, keV      mkFermi\n",
       "0   0,2    0,69      0,09     47,7    2,2  910,6336326\n",
       "1   0,4    0,64      0,04     95,4    8,8  214,6384056\n",
       "2   0,6     0,6         0    143,1   19,7            0\n",
       "3   0,8    0,56     -0,04    190,8   34,5            0\n",
       "4     1    1,12      0,52    238,5   52,9  195,7803483\n",
       "5   1,2   1,799     1,199    286,2   74,7  226,1544551\n",
       "6   1,4   3,569     2,969    333,9   99,4  282,4102597\n",
       "7   1,6   5,188     4,588    381,6  126,8    287,34203\n",
       "8   1,8   6,498     5,898    429,3  156,4  273,0304289\n",
       "9     2   8,088     7,488      477    188  262,6669004\n",
       "10  2,2   9,197     8,597    524,7  221,4  243,9533954\n",
       "11  2,4  10,667    10,067    572,4  256,3  231,6864295\n",
       "12  2,6  11,647    11,047    620,1  292,5  215,2432694\n",
       "13  2,8  10,277     9,677    667,8  329,9  180,2605735\n",
       "14    3   8,448     7,848    715,5  368,2  146,3743704\n",
       "15  3,2   6,408     5,808    763,2  407,5  114,3025084\n",
       "16  3,4   4,649     4,049    810,9  447,5  87,14107992\n",
       "17  3,6   2,639     2,039    858,6  488,1  56,75737308\n",
       "18  3,8    1,65      1,05    906,3  529,4  37,55663553\n",
       "19    4    1,49      0,89      954  571,2  32,01639587\n",
       "20  4,1   6,988     6,388   977,85  592,3  82,65594463\n",
       "21  4,2  12,856    12,256   1001,7  613,5  110,4251163\n",
       "22  4,3  12,736    12,136  1025,55  634,8  106,0724318\n",
       "23  4,4   9,257     8,657   1049,4  656,2  86,55100577\n",
       "24  4,5   3,739     3,139  1073,25  677,7  50,38999464\n",
       "25  4,6    1,54      0,94   1097,1  699,3  26,68053932\n",
       "26  4,8    0,63      0,03   1144,8  742,7   4,47163345\n",
       "27    5     0,4      -0,2   1192,5  786,4            0"
      ]
     },
     "execution_count": 4,
     "metadata": {},
     "output_type": "execute_result"
    }
   ],
   "source": [
    "table"
   ]
  },
  {
   "cell_type": "markdown",
   "metadata": {},
   "source": [
    "2\\. Строим график Ферми-Кюри, по точке пересечения графика с осью абсцисс определим максимальную энергию электронов в $\\beta$-спектре"
   ]
  },
  {
   "cell_type": "code",
   "execution_count": 7,
   "metadata": {},
   "outputs": [],
   "source": [
    "E = np.array(table.iloc[:, 4].str.replace(',', '.').astype(float))\n",
    "F = np.array(table.iloc[:, 5].str.replace(',', '.').astype(float))\n",
    "#Уберем часть начальных точек, где N-Nb ~ 0\n",
    "E = E[4:]\n",
    "F = F[4:]"
   ]
  },
  {
   "cell_type": "code",
   "execution_count": 11,
   "metadata": {},
   "outputs": [],
   "source": [
    "x = E[2:-10]\n",
    "y = F[2:-10]\n",
    "a, b = np.polyfit(x,y,1)"
   ]
  },
  {
   "cell_type": "code",
   "execution_count": 12,
   "metadata": {},
   "outputs": [
    {
     "data": {
      "image/png": "[encoded data removed]",
      "text/plain": [
       "<Figure size 1200x800 with 1 Axes>"
      ]
     },
     "metadata": {
      "needs_background": "light"
     },
     "output_type": "display_data"
    }
   ],
   "source": [
    "fig = plt.figure(figsize= (12, 8), dpi= 100)\n",
    "ax1 = fig.add_subplot()\n",
    "ax1.plot(E, F, 'o' ,label= \"Всё\")\n",
    "ax1.grid(True)\n",
    "ap = [i for i in range(100, 600, 10)]\n",
    "p = [a*i + b for i in ap]\n",
    "ax1.plot(ap, p, \"--\", label= \"Аппроксимация\")\n",
    "plt.xlabel(\"E, keV\")\n",
    "plt.ylabel(\"mkFermi\")\n",
    "plt.title(\"График Ферми-Кюри\")\n",
    "plt.show()"
   ]
  },
  {
   "cell_type": "code",
   "execution_count": 14,
   "metadata": {},
   "outputs": [
    {
     "name": "stdout",
     "output_type": "stream",
     "text": [
      "Максимальная энергия: 605.4 keV\n"
     ]
    }
   ],
   "source": [
    "Emax = -b/a\n",
    "print(\"Максимальная энергия:\", round(Emax,1), \"keV\")"
   ]
  },
  {
   "cell_type": "markdown",
   "metadata": {},
   "source": [
    "## Вывод"
   ]
  },
  {
   "cell_type": "markdown",
   "metadata": {},
   "source": [
    "Исследовали энергетический спектр $\\beta$-частиц при распаде $^{137}Cs$, определили их максимальную энергию"
   ]
  },
  {
   "cell_type": "code",
   "execution_count": null,
   "metadata": {},
   "outputs": [],
   "source": []
  }
 ],
 "metadata": {
  "kernelspec": {
   "display_name": "Python 3",
   "language": "python",
   "name": "python3"
  },
  "language_info": {
   "codemirror_mode": {
    "name": "ipython",
    "version": 3
   },
   "file_extension": ".py",
   "mimetype": "text/x-python",
   "name": "python",
   "nbconvert_exporter": "python",
   "pygments_lexer": "ipython3",
   "version": "3.7.6"
  }
 },
 "nbformat": 4,
 "nbformat_minor": 4
}
